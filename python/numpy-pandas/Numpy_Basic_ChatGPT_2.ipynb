{
  "metadata": {
    "kernelspec": {
      "name": "python",
      "display_name": "Python (Pyodide)",
      "language": "python"
    },
    "language_info": {
      "codemirror_mode": {
        "name": "python",
        "version": 3
      },
      "file_extension": ".py",
      "mimetype": "text/x-python",
      "name": "python",
      "nbconvert_exporter": "python",
      "pygments_lexer": "ipython3",
      "version": "3.8"
    }
  },
  "nbformat_minor": 5,
  "nbformat": 4,
  "cells": [
    {
      "id": "f36eac78-f271-4574-a6dd-880978d1a84e",
      "cell_type": "markdown",
      "source": "Bài 1: Chuẩn hóa dữ liệu (Min-Max Scaling)\nMô tả: Bạn có tập dữ liệu về doanh số hàng ngày [100, 200, 150, 400, 250]. Hãy chuẩn hóa dữ liệu này về khoảng [0,1] bằng Min-Max Scaling.\n\nYêu cầu:\nTạo mảng dữ liệu.\nÁp dụng công thức chuẩn hóa: x' = (x-min(x))/(max(x)-min(x))\n\nĐáp án mẫu:\nimport numpy as np\nsales = np.array([100, 200, 150, 400, 250])\nnormalized_sales = (sales - np.min(sales)) / (np.max(sales) - np.min(sales))\nprint(\"Chuẩn hóa Min-Max:\", normalized_sales)",
      "metadata": {}
    },
    {
      "id": "b439786e-a870-45b4-ad18-03801a75cf3d",
      "cell_type": "code",
      "source": "import numpy as np\nrev = np.array([100, 200, 150, 400, 250])\n# Chuẩn hóa data bằng Min-Max Scaling\nrev_2 = (rev - np.min(rev)) / (np.max(rev) - np.min(rev))\nprint(rev_2)",
      "metadata": {
        "trusted": true
      },
      "outputs": [
        {
          "name": "stdout",
          "output_type": "stream",
          "text": "[0.         0.33333333 0.16666667 1.         0.5       ]\n"
        }
      ],
      "execution_count": 3
    },
    {
      "id": "fefadfcc-fc51-47cb-bf43-0fc3440b14d6",
      "cell_type": "markdown",
      "source": "Bài 2: Tính tổng doanh thu theo từng tháng\nMô tả: Bạn có doanh thu theo từng ngày trong 3 tháng (30 ngày mỗi tháng), được lưu trong một mảng 1D có 90 phần tử. Hãy tính tổng doanh thu của mỗi tháng.\n\nYêu cầu:\nTạo mảng ngẫu nhiên gồm 90 ngày (randint(100, 500)).\nReshape thành (3, 30).\nTính tổng theo từng tháng (axis=1).\n\nĐáp án mẫu:\nimport numpy as np\nrev_arr = np.random.randint(100, 500, size=(3, 30))  # Tạo luôn mảng 2D\nmonthly_total_rev = np.sum(rev_arr, axis=1)\nprint(monthly_total_rev)",
      "metadata": {}
    },
    {
      "id": "a29b9a7f-a1e5-4024-86f8-76833f53c5bc",
      "cell_type": "code",
      "source": "import numpy as np\n'''Cách cũ - Đúng về logic nhưng chưa tối ưu: \nimport random\nrev = [] #Tạo danh sách rỗng chứa data doanh thu từng ngày trong 3 tháng \nfor _ in range(90): #Gen ngẫu nhiên doanh thu cho từng ngày (tổng 90 ngày\n    # rev.append(random.randint(100, 500)) \nrev_arr = np.array(rev) #Chuyển đổi danh sách thành mảng array\nrev_1d = rev_arr.reshape(3,30) #Công thức: array.reshape(hàng, cột)'''\nrev_1d = np.random.randint(100, 500, 90).reshape(3, 30)  # Tạo mảng và reshape trong 1 bước\nmonthly_total_rev = np.sum(rev_1d, axis=1) #Tính tổng theo hàng ngang aka 'rev mỗi tháng'\nprint(monthly_total_rev)",
      "metadata": {
        "trusted": true
      },
      "outputs": [
        {
          "name": "stdout",
          "output_type": "stream",
          "text": "[9115 9502 9152]\n"
        }
      ],
      "execution_count": 19
    },
    {
      "id": "64055c1a-edc7-4dce-a050-2dc418ce12fe",
      "cell_type": "markdown",
      "source": "Bài 3: Xác định sản phẩm bán chạy nhất\nMô tả: Bạn có dữ liệu doanh số của 5 sản phẩm qua 7 ngày (mảng 2D 5x7). Hãy tìm sản phẩm có tổng doanh số cao nhất.\n\nYêu cầu:\nTạo mảng ngẫu nhiên (5,7).\nTính tổng doanh số theo từng sản phẩm.\nXác định sản phẩm bán chạy nhất (dùng np.argmax()).\n\nĐáp án mẫu:\nimport numpy as np\nnp.random.seed(42)\nsales = np.random.randint(50, 300, size=(5, 7))\ntotal_sales_per_product = np.sum(sales, axis=1)\nbest_selling_product = np.argmax(total_sales_per_product)\nprint(\"Doanh số từng sản phẩm:\", total_sales_per_product)\nprint(\"Sản phẩm bán chạy nhất (index):\", best_selling_product)",
      "metadata": {}
    },
    {
      "id": "e0e05f13-a892-4823-a532-2c03c2665995",
      "cell_type": "code",
      "source": "import numpy as np\nsales_2d = np.random.randint(50,300, 35).reshape(5,7) # Tạo mảng và reshape trong 1 bước\ntotal_sales_per_product = np.sum(sales_2d, axis=1) #Tính tổng theo hàng ngang\nbest_sales_product = np.argmax(total_sales_per_product, axis=None) #Tìm vị trí index của phần tử lớn nhất trong toàn bộ mảng 1D\nfor _ in range (5):\n    print(f'{sales_2d[_]} | Total: {total_sales_per_product[_]}')\nprint(f'Best sales index: {best_sales_product}')",
      "metadata": {
        "trusted": true
      },
      "outputs": [
        {
          "name": "stdout",
          "output_type": "stream",
          "text": "[200 208 271  91 148  56 193] | Total: 1167\n[139 161 298 293 109 162  51] | Total: 1213\n[178  97 189 246  86 209 296] | Total: 1301\n[ 58 282 148 196  97 257 180] | Total: 1218\n[197 201 103 169 210 201 165] | Total: 1246\nBest sales index: 2\n"
        }
      ],
      "execution_count": 36
    },
    {
      "id": "3836e07c-c273-46b1-804d-68b220d87447",
      "cell_type": "markdown",
      "source": "Bài 4: Phát hiện dữ liệu bị thiếu\nMô tả: Một bảng dữ liệu có thể chứa giá trị bị thiếu (np.nan). Hãy tìm số lượng giá trị bị thiếu trong mảng 2D (5x5).\n\nYêu cầu:\nTạo mảng 2D (5x5) chứa một số phần tử bị thiếu (np.nan).\nĐếm số lượng phần tử bị thiếu bằng np.isnan().sum().\n\nĐáp án mẫu:\nimport numpy as np\ndata = np.array([[1, 2, np.nan, 4, 5],\n                 [6, np.nan, 8, 9, 10],\n                 [11, 12, 13, 14, np.nan],\n                 [16, 17, 18, 19, 20],\n                 [np.nan, 22, 23, 24, 25]])\n\nmissing_values = np.isnan(data).sum()\nprint(\"Số lượng giá trị bị thiếu:\", missing_values)",
      "metadata": {}
    },
    {
      "id": "c77ca618-5ead-43e0-a9c0-7ce9ea694121",
      "cell_type": "code",
      "source": "import numpy as np\n# Mảng array 5x5 với một số phần tử chứa giá trị bị thiếu (np.nan)\ndata = np.array([[1, 2, np.nan, 4, 5],\n                 [6, np.nan, 8, 9, 10],\n                 [11, 12, 13, 14, np.nan],\n                 [16, 17, 18, np.nan, 20],\n                 [np.nan, 22, 23, 24, 25]])\n# Đếm số lượng các phần tử np.nan:\nnan_counter = np.sum(np.isnan(data))\nprint(nan_counter)",
      "metadata": {
        "trusted": true
      },
      "outputs": [
        {
          "name": "stdout",
          "output_type": "stream",
          "text": "5\n"
        }
      ],
      "execution_count": 38
    },
    {
      "id": "f3b6d3b4-600b-45f0-8624-e6e2e241d3d8",
      "cell_type": "markdown",
      "source": "Bài 5: Xử lý dữ liệu bị thiếu\nMô tả: Bạn có một tập dữ liệu chứa np.nan. Hãy thay thế các giá trị nan bằng trung bình của cột đó.\n\nYêu cầu:\n\nTạo mảng chứa np.nan.\nTính trung bình theo cột, bỏ qua np.nan.\nThay thế nan bằng trung bình.\n\nĐáp án mẫu:\nimport numpy as np\ndata = np.array([[1, 2, np.nan], [4, np.nan, 6], [7, 8, 9]])\ncol_means = np.nanmean(data, axis=0)\nindices = np.where(np.isnan(data))\ndata[indices] = np.take(col_means, indices[1])\nprint(\"Dữ liệu sau khi thay thế NaN:\\n\", data)",
      "metadata": {}
    },
    {
      "id": "a52c763c-0454-4778-8940-de443645fd0f",
      "cell_type": "code",
      "source": "import numpy as np\n\n# Tạo mảng chứa NaN\ndata = np.array([[1, np.nan, 3], \n                 [np.nan, 4, 5], \n                 [6, 7, 8]])\n\n# Tính trung bình mỗi cột, bỏ qua NaN\ncolumn_nanmean = np.nanmean(data, axis=0)\n\n# Tìm vị trí các phần tử NaN\nnan_location = np.where(np.isnan(data))\n\n# Thay thế NaN bằng giá trị trung bình cột tương ứng\ndata[nan_location] = np.take(column_nanmean, nan_location[1])\n\n# In kết quả\nprint(\"Dữ liệu sau khi thay thế NaN:\\n\", data)",
      "metadata": {
        "trusted": true
      },
      "outputs": [
        {
          "name": "stdout",
          "output_type": "stream",
          "text": "Dữ liệu sau khi thay thế NaN:\n [[1.  5.5 3. ]\n [3.5 4.  5. ]\n [6.  7.  8. ]]\n"
        }
      ],
      "execution_count": 5
    },
    {
      "id": "a0b604cf-89f7-4717-bdc2-67a0e3128d89",
      "cell_type": "markdown",
      "source": "Bài 6: Xếp hạng doanh số\nMô tả: Bạn có doanh số của 6 sản phẩm [400, 800, 300, 700, 500, 600]. Hãy xếp hạng theo thứ tự giảm dần (1 là cao nhất).\n\nYêu cầu:\nTạo mảng doanh số.\nSắp xếp theo thứ tự giảm dần.\nDùng np.argsort() để tạo bảng xếp hạng.\n\nĐáp án mẫu:\nimport numpy as np\nsales = np.array([400, 800, 300, 700, 500, 600])\nranking = np.argsort(-sales) + 1\nprint(\"Xếp hạng doanh số:\", ranking)",
      "metadata": {}
    },
    {
      "id": "0f08b792-be0a-459d-aeab-f77f8047a5f1",
      "cell_type": "code",
      "source": "import numpy as np\nsales = np.array([400, 800, 300, 700, 500, 600])\nxep_hang = np.argsort(-sales) + 1 # Sắp xếp theo thứ tự giảm dần và +1 để thành xếp hạng bắt đầu từ 1\nprint(xep_hang)",
      "metadata": {
        "trusted": true
      },
      "outputs": [
        {
          "name": "stdout",
          "output_type": "stream",
          "text": "[2 4 6 5 1 3]\n"
        }
      ],
      "execution_count": 10
    },
    {
      "id": "afd8e231-836b-4519-9070-744f2fdc5ce7",
      "cell_type": "markdown",
      "source": "Bài 7: Tính giá trị trung vị (Median)\nMô tả: Hãy tìm trung vị của một danh sách lương nhân viên [700, 800, 1200, 1500, 1800, 5000, 6000].\n\nYêu cầu:\n\nTạo mảng lương.\nDùng np.median() để tính trung vị.\n\nĐáp án mẫu:\nimport numpy as np\nsalaries = np.array([700, 800, 1200, 1500, 1800, 5000, 6000])\nmedian_salary = np.median(salaries)\nprint(\"Mức lương trung vị:\", median_salary)",
      "metadata": {}
    },
    {
      "id": "18f110c1-090b-4419-b993-d8b937f33ba7",
      "cell_type": "code",
      "source": "import numpy as np\nsalary_arr = np.array([700, 800, 1200, 1500, 1800, 5000, 6000])\nsalary_median = np.median(salary_arr)\nprint(salary_median)",
      "metadata": {
        "trusted": true
      },
      "outputs": [
        {
          "name": "stdout",
          "output_type": "stream",
          "text": "1500.0\n"
        }
      ],
      "execution_count": 11
    },
    {
      "id": "ab968d70-15ef-4b51-a09d-2ba1ac39b4b7",
      "cell_type": "markdown",
      "source": "Bài 8: Lọc dữ liệu theo điều kiện\nMô tả: Bạn có một danh sách khách hàng với số lần mua hàng [2, 5, 8, 1, 10, 7, 3, 6]. Hãy tìm những khách hàng có số lần mua trên 5.\n\nYêu cầu:\nTạo mảng dữ liệu.\nDùng boolean indexing để lọc khách hàng.\n\nĐáp án mẫu: import numpy as np\npurchases = np.array([2, 5, 8, 1, 10, 7, 3, 6])\nhigh_value_customers = purchases[purchases > 5]\nprint(\"Khách hàng có trên 5 lần mua hàng:\", high_value_customers)\n",
      "metadata": {}
    },
    {
      "id": "58b073b8-a75b-4589-918a-9756adcfa448",
      "cell_type": "code",
      "source": "import numpy as np\npurchases = np.array([2, 5, 8, 1, 10, 7, 3, 6])\nhigh_value_customers = purchases[purchases > 5] # Sử dụng boolean indexing để lọc khách hàng có số lần mua > 5\nprint(high_value_customers)",
      "metadata": {
        "trusted": true
      },
      "outputs": [
        {
          "name": "stdout",
          "output_type": "stream",
          "text": "[ 8 10  7  6]\n"
        }
      ],
      "execution_count": 2
    },
    {
      "id": "37c5ee45-e327-410f-9799-a583bb007abb",
      "cell_type": "markdown",
      "source": "Bài 9: Tính ma trận hiệp phương sai (Covariance)\nMô tả: Bạn có dữ liệu doanh thu của hai sản phẩm trong 5 ngày [100, 200, 300, 400, 500] và [50, 100, 150, 200, 250]. Hãy tính ma trận hiệp phương sai (covariance matrix).\n\nYêu cầu:\nTạo hai mảng doanh thu.\nDùng np.cov() để tính ma trận hiệp phương sai.\n\nĐáp án mẫu:\nimport numpy as np\nproduct_A = np.array([100, 200, 300, 400, 500])\nproduct_B = np.array([50, 100, 150, 200, 250])\ncov_matrix = np.cov(product_A, product_B)\nprint(\"Ma trận hiệp phương sai:\\n\", cov_matrix)",
      "metadata": {}
    },
    {
      "id": "ae96dace-b769-4ec1-a2e9-f8d9898fa655",
      "cell_type": "code",
      "source": "import numpy as np\nproduct_A = np.array([100, 200, 300, 400, 500])\nproduct_B = np.array([50, 100, 150, 200, 250])\n\n# Tính ma trận hiệp phương sai\ncov_matrix = np.cov(product_A, product_B)\nprint(cov_matrix)\n",
      "metadata": {
        "trusted": true
      },
      "outputs": [
        {
          "name": "stdout",
          "output_type": "stream",
          "text": "[[25000. 12500.]\n [12500.  6250.]]\n"
        }
      ],
      "execution_count": 3
    },
    {
      "id": "c97b2451-ae97-4075-b8f7-0ccc85b3edfd",
      "cell_type": "markdown",
      "source": "Bài 10: Ma trận tương quan (Correlation Matrix)\nMô tả: Hãy tính ma trận tương quan giữa hai danh sách doanh thu giống bài trên, dùng np.corrcoef().\n\nĐáp án mẫu:\nimport numpy as np\ncorr_matrix = np.corrcoef(product_A, product_B)\nprint(\"Ma trận tương quan:\\n\", corr_matrix)",
      "metadata": {}
    },
    {
      "id": "c0bd3e80-64e0-40a8-8734-0f27ceaf4e21",
      "cell_type": "code",
      "source": "import numpy as np\nproduct_A = np.array([100, 200, 300, 400, 500])\nproduct_B = np.array([50, 100, 150, 200, 250])\n\n# Tính ma trận tương quan\ncorr_matrix = np.corrcoef(product_A, product_B)\nprint(corr_matrix)\n",
      "metadata": {
        "trusted": true
      },
      "outputs": [
        {
          "name": "stdout",
          "output_type": "stream",
          "text": "[[1. 1.]\n [1. 1.]]\n"
        }
      ],
      "execution_count": 4
    },
    {
      "id": "8902d11c-d1b1-4305-9bec-58f6eb267a10",
      "cell_type": "code",
      "source": "",
      "metadata": {
        "trusted": true
      },
      "outputs": [],
      "execution_count": null
    }
  ]
}