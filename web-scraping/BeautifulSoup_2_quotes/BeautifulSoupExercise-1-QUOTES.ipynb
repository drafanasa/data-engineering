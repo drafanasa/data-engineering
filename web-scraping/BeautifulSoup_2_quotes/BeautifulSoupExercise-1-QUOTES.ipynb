{
 "cells": [
  {
   "cell_type": "code",
   "execution_count": 1,
   "id": "16c69be0-267b-4b46-9395-8ed6d3145d92",
   "metadata": {},
   "outputs": [],
   "source": [
    "import requests\n",
    "from bs4 import BeautifulSoup\n",
    "import username_n_password"
   ]
  },
  {
   "cell_type": "code",
   "execution_count": 2,
   "id": "fb45ac0c-17e4-42ba-b05b-a86979086a08",
   "metadata": {},
   "outputs": [
    {
     "name": "stdout",
     "output_type": "stream",
     "text": [
      "Requests thành công. Proxy 113.160.133.32:8080\n"
     ]
    }
   ],
   "source": [
    "# Gửi request có headers với proxy + authenticate đến web Và xử lý pagination\n",
    "\n",
    "# fake user-agent để tránh bị chặn\n",
    "headers = {'User-Agent': 'Mozilla/5.0 (Windows NT 10.0; Win64; x64) AppleWebKit/537.36 (KHTML, like Gecko) Chrome/124.0.0.0 Safari/537.36'}\n",
    "\n",
    "# đọc danh sách proxy từ file proxy_list.txt và loại bỏ dòng trống\n",
    "with open('proxy_list.txt', 'r') as p:\n",
    "    proxy_list = [proxy.strip() for proxy in p if proxy.strip()] # list comprehension loại bỏ khoảng trắng, tab (\\t), hoặc dấu xuống dòng (\\n) ở đầu và cuối chuỗi.\n",
    "\n",
    "# chỉ định URL trang web đích\n",
    "url = \"https://quotes.toscrape.com/\"\n",
    "\n",
    "# lặp qua từng proxy trong file để gửi request\n",
    "for proxy in proxy_list:\n",
    "    username = username_n_password.username  # Lấy username từ file 'username_password.py' \n",
    "    password = username_n_password.password  # Lấy password từ file 'username_password.py' \n",
    "    \n",
    "    proxy_url = f\"http://{username}:{password}@{proxy}\"  # Tạo URL của proxy + authenticate\n",
    "    proxies = {\n",
    "        \"http://\" : proxy_url,\n",
    "        \"https://\" : proxy_url\n",
    "    }\n",
    "\n",
    "    # thiết lập try - except để kiểm tra lỗi requests\n",
    "    try:\n",
    "        response = requests.get(url, proxies = proxies, headers = headers, timeout = 10)\n",
    "        response.encoding = 'utf-8'\n",
    "        soup = BeautifulSoup(response.text, 'html.parser')\n",
    "        response.raise_for_status() # Nếu trang web đích gặp lỗi HTTP (403, 500,..) thì báo lỗi\n",
    "        \n",
    "        if response.status_code == 200:\n",
    "            print(f'Requests thành công. Proxy {proxy}')\n",
    "        else:\n",
    "            print(f'Requests thất bại. Proxy: {proxy} - Status code: {response.status_code}')\n",
    "    except requests.exceptions.ProxyError: # Xử lý lỗi proxy không hoạt động\n",
    "        print(f\"Proxy lỗi: {proxy}. Thử proxy khác...\")\n",
    "    except requests.exceptions.ConnectTimeout: # Xử lý lỗi timeout khi proxy quá chậm\n",
    "        print(f\"Proxy quá chậm: {proxy}. Bỏ qua...\")\n",
    "    except requests.exceptions.ConnectionError: # Xử lý lỗi khi proxy không thể kết nối đến server\n",
    "        print(f\"Không thể kết nối: {proxy}. Thử proxy khác...\")\n",
    "    except requests.exceptions.HTTPError as err: # Xử lý lỗi HTTP khác (403, 404, 500,...)\n",
    "        print(f\"HTTP Error: {err}\")\n",
    "    except Exception as e: # Xử lý các lỗi khác không xác định\n",
    "        print(f\"Lỗi khác: {e}\")"
   ]
  },
  {
   "cell_type": "markdown",
   "id": "5ca6214b-039d-48de-8397-268ace23bdd5",
   "metadata": {},
   "source": [
    "    Print out the first quote"
   ]
  },
  {
   "cell_type": "code",
   "execution_count": 3,
   "id": "eed2bd9f-fdf7-4d75-a570-05abd4fa64c2",
   "metadata": {},
   "outputs": [
    {
     "name": "stdout",
     "output_type": "stream",
     "text": [
      "“The world as we have created it is a process of our thinking. It cannot be changed without changing our thinking.”\n"
     ]
    }
   ],
   "source": [
    "quote_first = soup.find('div', class_='quote').span.text\n",
    "print(quote_first)"
   ]
  },
  {
   "cell_type": "markdown",
   "id": "d3ab74ef-fcaf-4f6d-b8f3-08bf2bf2622e",
   "metadata": {},
   "source": [
    "    Print out the first author"
   ]
  },
  {
   "cell_type": "code",
   "execution_count": 4,
   "id": "7aa19c3d-7ec2-4e4b-9b0b-f28951a36a03",
   "metadata": {},
   "outputs": [
    {
     "name": "stdout",
     "output_type": "stream",
     "text": [
      "Albert Einstein\n"
     ]
    }
   ],
   "source": [
    "author_first = soup.find('small', class_='author').text\n",
    "print(author_first)"
   ]
  },
  {
   "cell_type": "markdown",
   "id": "a3162779-c2dd-41a5-bba9-52aaf8445fcd",
   "metadata": {},
   "source": [
    "    Print out the first tags"
   ]
  },
  {
   "cell_type": "code",
   "execution_count": 5,
   "id": "0cd19f12-28c0-4ffd-a993-f88cb6e4651b",
   "metadata": {},
   "outputs": [
    {
     "name": "stdout",
     "output_type": "stream",
     "text": [
      "change\n",
      "deep-thoughts\n",
      "thinking\n",
      "world\n"
     ]
    }
   ],
   "source": [
    "# Tìm div với class 'tags'\n",
    "tags_div = soup.find('div', class_='tags')\n",
    "\n",
    "# Tìm tất cả thẻ <a> bên trong div\n",
    "tags = tags_div.find_all('a', class_='tag')\n",
    "\n",
    "# Iterate và in ra thông tin của từng tag\n",
    "for tag in tags:\n",
    "    tag_text = tag.text.strip()  # Lấy nội dung của tag\n",
    "    print(tag_text)"
   ]
  },
  {
   "cell_type": "markdown",
   "id": "90a308cd-2df1-4e6b-a992-ea0616b3bc06",
   "metadata": {},
   "source": [
    "    Take the list of all quote elements on the first page"
   ]
  },
  {
   "cell_type": "code",
   "execution_count": 6,
   "id": "3a4809e7-5b62-4c39-97fe-fc6e3d777249",
   "metadata": {},
   "outputs": [],
   "source": [
    "# Khởi tạo danh sách rỗng chứa data về element của các quote\n",
    "quote_data = []\n",
    "\n",
    "# Tìm vị trí chứa tất cả các quote trong first page\n",
    "quote_divs = soup.find_all('div', class_='quote')\n",
    "\n",
    "# Chạy vòng lặp cho từng div nhỏ chứa data về các element của quote (nội dung quote, tác giả, danh sách tags)\n",
    "for quote_div in quote_divs:\n",
    "    # Lấy nội dung quote (chỉ cần find trong quote_div nhỏ để lấy giá trị khớp đầu tiên với lần lặp này)\n",
    "    quote_text = quote_div.find('span', class_='text').text\n",
    "\n",
    "    # Lấy tên tác giả'\n",
    "    author_text = quote_div.find('small', class_='author').text\n",
    "\n",
    "    # Lấy danh sách tags\n",
    "    tags_div = quote_div.find('div', class_='tags')\n",
    "    # Tìm tất cả thẻ <a> bên trong div\n",
    "    tags = tags_div.find_all('a', class_='tag')\n",
    "    # Khởi tạo danh sách tags rỗng\n",
    "    list_of_tags = []\n",
    "    # Iterate và in ra thông tin của từng tag\n",
    "    for tag in tags:\n",
    "        tag_text = tag.text.strip()  # Lấy nội dung của tag\n",
    "        list_of_tags.append(tag_text)\n",
    "\n",
    "    # Lưu data của tất cả element lấy được từ vòng lặp lần này vào danh sách quote_data\n",
    "    quote_data.append({'quote':quote_text, 'author':author_text, 'tags':list_of_tags})"
   ]
  },
  {
   "cell_type": "markdown",
   "id": "b69f782a-78ec-419d-82b7-d3a525ec3df9",
   "metadata": {},
   "source": [
    "    Print out quote, author and tags of all elements on the first page (You must use a loop)"
   ]
  },
  {
   "cell_type": "code",
   "execution_count": 7,
   "id": "2f0195ed-64b0-4174-bb9f-6fbe6712f432",
   "metadata": {},
   "outputs": [
    {
     "name": "stdout",
     "output_type": "stream",
     "text": [
      "Quote: “The world as we have created it is a process of our thinking. It cannot be changed without changing our thinking.”\n",
      "Author: Albert Einstein\n",
      "Tags: change, deep-thoughts, thinking, world\n",
      "------------------------------------------------------------\n",
      "Quote: “It is our choices, Harry, that show what we truly are, far more than our abilities.”\n",
      "Author: J.K. Rowling\n",
      "Tags: abilities, choices\n",
      "------------------------------------------------------------\n",
      "Quote: “There are only two ways to live your life. One is as though nothing is a miracle. The other is as though everything is a miracle.”\n",
      "Author: Albert Einstein\n",
      "Tags: inspirational, life, live, miracle, miracles\n",
      "------------------------------------------------------------\n",
      "Quote: “The person, be it gentleman or lady, who has not pleasure in a good novel, must be intolerably stupid.”\n",
      "Author: Jane Austen\n",
      "Tags: aliteracy, books, classic, humor\n",
      "------------------------------------------------------------\n",
      "Quote: “Imperfection is beauty, madness is genius and it's better to be absolutely ridiculous than absolutely boring.”\n",
      "Author: Marilyn Monroe\n",
      "Tags: be-yourself, inspirational\n",
      "------------------------------------------------------------\n",
      "Quote: “Try not to become a man of success. Rather become a man of value.”\n",
      "Author: Albert Einstein\n",
      "Tags: adulthood, success, value\n",
      "------------------------------------------------------------\n",
      "Quote: “It is better to be hated for what you are than to be loved for what you are not.”\n",
      "Author: André Gide\n",
      "Tags: life, love\n",
      "------------------------------------------------------------\n",
      "Quote: “I have not failed. I've just found 10,000 ways that won't work.”\n",
      "Author: Thomas A. Edison\n",
      "Tags: edison, failure, inspirational, paraphrased\n",
      "------------------------------------------------------------\n",
      "Quote: “A woman is like a tea bag; you never know how strong it is until it's in hot water.”\n",
      "Author: Eleanor Roosevelt\n",
      "Tags: misattributed-eleanor-roosevelt\n",
      "------------------------------------------------------------\n",
      "Quote: “A day without sunshine is like, you know, night.”\n",
      "Author: Steve Martin\n",
      "Tags: humor, obvious, simile\n",
      "------------------------------------------------------------\n"
     ]
    }
   ],
   "source": [
    "# In kết quả\n",
    "for quote in quote_data:\n",
    "    print(f\"Quote: {quote['quote']}\\nAuthor: {quote['author']}\\nTags: {', '.join(quote['tags'])}\")\n",
    "    print('-' * 60)"
   ]
  },
  {
   "cell_type": "markdown",
   "id": "a5821908-4dbf-4a21-9ea2-3c32b48124b5",
   "metadata": {},
   "source": [
    "    Print out the first author on every page (There are 10 pages)"
   ]
  },
  {
   "cell_type": "code",
   "execution_count": 8,
   "id": "413f0276-2762-4563-b5a3-550889364b94",
   "metadata": {},
   "outputs": [
    {
     "name": "stdout",
     "output_type": "stream",
     "text": [
      "Scraping page 1\n",
      "Albert Einstein\n",
      "Scraping page 2\n",
      "Marilyn Monroe\n",
      "Scraping page 3\n",
      "Pablo Neruda\n",
      "Scraping page 4\n",
      "Dr. Seuss\n",
      "Scraping page 5\n",
      "George R.R. Martin\n",
      "Scraping page 6\n",
      "Jane Austen\n",
      "Scraping page 7\n",
      "Charles Bukowski\n",
      "Scraping page 8\n",
      "Alfred Tennyson\n",
      "Scraping page 9\n",
      "Albert Einstein\n",
      "Scraping page 10\n",
      "J.K. Rowling\n",
      "Hoàn thành scraping tất cả các trang!\n"
     ]
    }
   ],
   "source": [
    "# xử lý pagination với button 'next'\n",
    "\n",
    "url = 'https://quotes.toscrape.com/page/1/' # => Khai báo url gốc là page 1 cho lần đầu tiên\n",
    "\n",
    "page_no = 1 # mặc định sẽ bắt đầu chạy từ page đầu tiên\n",
    "\n",
    "while True:\n",
    "    print(f'Scraping page {page_no}')\n",
    "    response = requests.get(url, proxies = proxies, headers = headers, timeout = 10)\n",
    "    soup = BeautifulSoup(response.text, 'html.parser')\n",
    "\n",
    "    # Tìm fisrt author của mỗi page\n",
    "    page_first_author = soup.find('small', class_='author').text\n",
    "    print(page_first_author)\n",
    "\n",
    "    # Kiểm tra và cập nhật 'next_btn'\n",
    "    next_btn = soup.find('li', class_='next')\n",
    "    if next_btn:\n",
    "        next_page_url = next_btn.find('a')['href']\n",
    "        url = f\"https://quotes.toscrape.com{next_page_url}\" # => Cập nhật url mới sau khi hoàn thành mỗi vòng lặp\n",
    "        page_no += 1\n",
    "    else:\n",
    "        # Khi không còn button 'next', kết thúc vòng lặp\n",
    "        print(\"Hoàn thành scraping tất cả các trang!\")\n",
    "        break"
   ]
  },
  {
   "cell_type": "markdown",
   "id": "88dc1ad5-5ad6-42ba-acb0-82da5fd2a043",
   "metadata": {},
   "source": [
    "    Locate the 'Next' button on page 1 and print out its 'href' attribute"
   ]
  },
  {
   "cell_type": "code",
   "execution_count": 9,
   "id": "4d921bbc-8b6d-4115-a94b-ab8a53cbaa7a",
   "metadata": {},
   "outputs": [
    {
     "name": "stdout",
     "output_type": "stream",
     "text": [
      "/page/2/\n"
     ]
    }
   ],
   "source": [
    "url = 'https://quotes.toscrape.com/page/1/'\n",
    "response = requests.get(url, proxies = proxies, headers = headers, timeout = 10)\n",
    "soup = BeautifulSoup(response.text, 'html.parser')\n",
    "next_btn = soup.find('li', class_='next')\n",
    "next_btn_href = next_btn.find('a')['href']\n",
    "print(next_btn_href)"
   ]
  },
  {
   "cell_type": "markdown",
   "id": "04072c4c-1062-4785-9d25-96c4ee9d9308",
   "metadata": {},
   "source": [
    "    Using the 'Next' button, reach to the last quote element in page one (use parents/siblings)"
   ]
  },
  {
   "cell_type": "code",
   "execution_count": 10,
   "id": "7a55d296-5f7d-498c-9894-101bff874193",
   "metadata": {
    "scrolled": true
   },
   "outputs": [
    {
     "name": "stdout",
     "output_type": "stream",
     "text": [
      "<div class=\"quote\" itemscope=\"\" itemtype=\"http://schema.org/CreativeWork\">\n",
      "<span class=\"text\" itemprop=\"text\">“A day without sunshine is like, you know, night.”</span>\n",
      "<span>by <small class=\"author\" itemprop=\"author\">Steve Martin</small>\n",
      "<a href=\"/author/Steve-Martin\">(about)</a>\n",
      "</span>\n",
      "<div class=\"tags\">\n",
      "            Tags:\n",
      "            <meta class=\"keywords\" content=\"humor,obvious,simile\" itemprop=\"keywords\"/>\n",
      "<a class=\"tag\" href=\"/tag/humor/page/1/\">humor</a>\n",
      "<a class=\"tag\" href=\"/tag/obvious/page/1/\">obvious</a>\n",
      "<a class=\"tag\" href=\"/tag/simile/page/1/\">simile</a>\n",
      "</div>\n",
      "</div>\n"
     ]
    }
   ],
   "source": [
    "last_quote_element = next_btn.parent.parent.find_previous_sibling()\n",
    "print(last_quote_element)"
   ]
  },
  {
   "cell_type": "markdown",
   "id": "264c8227-2d07-4da0-8b54-38c4ec51dab3",
   "metadata": {},
   "source": [
    "    Print out the class name of the last element"
   ]
  },
  {
   "cell_type": "code",
   "execution_count": 11,
   "id": "0e6b7de0-5fd9-49a5-9778-b8a0a0b598f3",
   "metadata": {},
   "outputs": [
    {
     "name": "stdout",
     "output_type": "stream",
     "text": [
      "['quote']\n"
     ]
    }
   ],
   "source": [
    "last_quote_element = next_btn.parent.parent.find_previous_sibling()\n",
    "last_element_class = last_quote_element['class']\n",
    "print(last_element_class)"
   ]
  },
  {
   "cell_type": "markdown",
   "id": "1529b3ec-db52-4065-a34b-f1da8f9e6877",
   "metadata": {},
   "source": [
    "    Print out the itemtype of the last element"
   ]
  },
  {
   "cell_type": "code",
   "execution_count": 12,
   "id": "8a971024-02c9-40f4-b03d-13fb81b656f2",
   "metadata": {},
   "outputs": [
    {
     "name": "stdout",
     "output_type": "stream",
     "text": [
      "http://schema.org/CreativeWork\n"
     ]
    }
   ],
   "source": [
    "last_quote_element = next_btn.parent.parent.find_previous_sibling()\n",
    "last_element_class = last_quote_element['itemtype']\n",
    "print(last_element_class)"
   ]
  }
 ],
 "metadata": {
  "kernelspec": {
   "display_name": "Python 3",
   "language": "python",
   "name": "python3"
  },
  "language_info": {
   "codemirror_mode": {
    "name": "ipython",
    "version": 3
   },
   "file_extension": ".py",
   "mimetype": "text/x-python",
   "name": "python",
   "nbconvert_exporter": "python",
   "pygments_lexer": "ipython3",
   "version": "3.12.1"
  }
 },
 "nbformat": 4,
 "nbformat_minor": 5
}
