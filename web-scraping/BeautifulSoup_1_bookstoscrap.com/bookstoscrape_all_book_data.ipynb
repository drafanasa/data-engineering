{
 "cells": [
  {
   "cell_type": "code",
   "execution_count": 4,
   "id": "551da0e0-a2da-4d60-9028-7bfbf9618bc0",
   "metadata": {},
   "outputs": [],
   "source": [
    "import os\n",
    "import requests\n",
    "from bs4 import BeautifulSoup\n",
    "import pandas as pd\n",
    "import username_n_password  # Import thông tin đăng nhập từ file 'username_n_password' trong cùng folder làm việc\n",
    "from rich import print # Import rich để hiển thị HTML đẹp!\n",
    "from rich.syntax import Syntax"
   ]
  },
  {
   "cell_type": "code",
   "execution_count": 5,
   "id": "ad516013-4d11-47fe-bebb-b1d718791c37",
   "metadata": {},
   "outputs": [],
   "source": [
    "# Dictionary để lưu trữ dữ liệu sách\n",
    "book_dict = {\n",
    "    'name': [],\n",
    "    'price': [],\n",
    "    'category': [],\n",
    "    'stars': [],\n",
    "    'upc': [],\n",
    "    'availability': [],\n",
    "    'in_stock': [],\n",
    "    'image_link': []\n",
    "}\n",
    "\n",
    "# Dictionary để chuyển đổi số sao từ chữ sang số\n",
    "number_dict = {'One': '1', 'Two': '2', 'Three': '3', 'Four': '4', 'Five': '5'}\n",
    "\n",
    "# Tạo thư mục output nếu chưa tồn tại\n",
    "output_folder = 'output'\n",
    "book_images_folder = os.path.join(output_folder, 'book_images')\n",
    "os.makedirs(output_folder, exist_ok=True)  # Tạo folder output\n",
    "os.makedirs(book_images_folder, exist_ok=True)  # Tạo folder output/book_images\n",
    "\n",
    "# Tạo file .txt để lưu link ảnh trong thư mục output\n",
    "image_links_file = os.path.join(output_folder, 'image_links.txt')\n",
    "with open(image_links_file, 'w') as f:\n",
    "    pass  # File rỗng ban đầu\n",
    "\n",
    "# Fake User-Agent để tránh bị chặn\n",
    "headers = {'User-Agent': 'Mozilla/5.0 (Windows NT 10.0; Win64; x64) AppleWebKit/537.36 (KHTML, like Gecko) Chrome/124.0.0.0 Safari/537.36'}"
   ]
  },
  {
   "cell_type": "code",
   "execution_count": 6,
   "id": "a388c40f-4f5f-41ec-b158-5054ff2b820c",
   "metadata": {},
   "outputs": [
    {
     "data": {
      "text/html": [
       "<pre style=\"white-space:pre;overflow-x:auto;line-height:normal;font-family:Menlo,'DejaVu Sans Mono',consolas,'Courier New',monospace\">Request thành công. Proxy: <span style=\"color: #00ff00; text-decoration-color: #00ff00; font-weight: bold\">113.160.133.32</span>:<span style=\"color: #008080; text-decoration-color: #008080; font-weight: bold\">8080</span>\n",
       "</pre>\n"
      ],
      "text/plain": [
       "Request thành công. Proxy: \u001b[1;92m113.160.133.32\u001b[0m:\u001b[1;36m8080\u001b[0m\n"
      ]
     },
     "metadata": {},
     "output_type": "display_data"
    }
   ],
   "source": [
    "# Gửi Request Có Headers Đến Web Và Xử Lý Pagination (Nhiều Trang)\n",
    "'''\n",
    "url = 'https://books.toscrape.com/'\n",
    "response = requests.get(url, headers=headers)\n",
    "response.encoding = 'utf-8'\n",
    "soup = BeautifulSoup(response.text, 'html.parser')\n",
    "'''\n",
    "# Đọc danh sách proxy từ file proxy_list.txt và loại bỏ dòng trống\n",
    "with open('proxy_list.txt', 'r') as p:\n",
    "    proxy_list = [proxy.strip() for proxy in p if proxy.strip()]\n",
    "\n",
    "# Chỉ định URL của website đích:\n",
    "url = \"https://books.toscrape.com\"\n",
    "\n",
    "# Lặp qua từng proxy để gửi request\n",
    "for proxy in proxy_list:\n",
    "    my_proxy = proxy\n",
    "    proxy_url = f\"http://{my_proxy}\"  # Tạo URL của proxy\n",
    "\n",
    "    proxies = {\n",
    "        \"http\": proxy_url,\n",
    "        \"https\": proxy_url\n",
    "    }\n",
    "\n",
    "    # Thiết lập try-except nâng cao để kiểm tra trạng thái và xử lý lỗi\n",
    "    try:\n",
    "        response = requests.get(url, proxies=proxies, headers=headers, timeout=20) # Gửi request với timeout và headers\n",
    "        response.encoding = 'utf-8'\n",
    "        soup = BeautifulSoup(response.text, 'html.parser')\n",
    "        response.raise_for_status() # Nếu gặp lỗi HTTP (403, 500, ...) thì raise lỗi\n",
    "        # Kiểm tra kết quả\n",
    "        if response.status_code == 200:\n",
    "            print(f\"Request thành công. Proxy: {proxy}\")\n",
    "        else:\n",
    "            print(f\"Request thất bại. Proxy: {proxy} - Mã trạng thái: {response.status_code}\")\n",
    "\n",
    "    except requests.exceptions.ProxyError: # Xử lý lỗi proxy không hoạt động\n",
    "        print(f\"Proxy lỗi: {proxy}. Thử proxy khác...\")\n",
    "\n",
    "    except requests.exceptions.ConnectTimeout: # Xử lý lỗi timeout khi proxy quá chậm\n",
    "        print(f\"Proxy quá chậm: {proxy}. Bỏ qua...\")\n",
    "\n",
    "    except requests.exceptions.ConnectionError: # Xử lý lỗi khi proxy không thể kết nối đến server\n",
    "        print(f\"Không thể kết nối: {proxy}. Thử proxy khác...\")\n",
    "\n",
    "    except requests.exceptions.HTTPError as err: # Xử lý lỗi HTTP khác (403, 404, 500,...)\n",
    "        print(f\"HTTP Error: {err}\")\n",
    "\n",
    "    except Exception as e: # Xử lý các lỗi khác không xác định\n",
    "        print(f\"Lỗi khác: {e}\")\n",
    "'''\n",
    "# Hiển trị HTML được làm đẹp bằng .prettify() và rich\n",
    "rich_html = Syntax(soup.prettify(), \"html\", theme=\"solarized-dark\", line_numbers=True)\n",
    "print(rich_html)\n",
    "'''\n",
    "# Xác định vị trí, tách chuỗi để lấy tổng số page:\n",
    "page_count_string = soup.find('li', class_='current').text\n",
    "page_count = int(page_count_string.strip().split(' ')[-1])"
   ]
  },
  {
   "cell_type": "code",
   "execution_count": 7,
   "id": "04a596ef-1fa5-45f6-98fe-bdbdf12ea867",
   "metadata": {},
   "outputs": [
    {
     "data": {
      "text/html": [
       "<pre style=\"white-space:pre;overflow-x:auto;line-height:normal;font-family:Menlo,'DejaVu Sans Mono',consolas,'Courier New',monospace\">Please wait, still scraping page --&gt; <span style=\"color: #008080; text-decoration-color: #008080; font-weight: bold\">49</span>\n",
       "</pre>\n"
      ],
      "text/plain": [
       "Please wait, still scraping page --> \u001b[1;36m49\u001b[0m\n"
      ]
     },
     "metadata": {},
     "output_type": "display_data"
    },
    {
     "data": {
      "text/html": [
       "<pre style=\"white-space:pre;overflow-x:auto;line-height:normal;font-family:Menlo,'DejaVu Sans Mono',consolas,'Courier New',monospace\">Please wait, still scraping page --&gt; <span style=\"color: #008080; text-decoration-color: #008080; font-weight: bold\">50</span>\n",
       "</pre>\n"
      ],
      "text/plain": [
       "Please wait, still scraping page --> \u001b[1;36m50\u001b[0m\n"
      ]
     },
     "metadata": {},
     "output_type": "display_data"
    }
   ],
   "source": [
    "# Lặp Qua Từng Trang Để Lấy Dữ Liệu Từng Cuốn Sách (ví dụ bắt đầu từ trang 49)\n",
    "for page_no in range(49, page_count + 1):\n",
    "    print(f'Please wait, still scraping page --> {page_no}')\n",
    "    page_url = f'https://books.toscrape.com/catalogue/page-{page_no}.html'\n",
    "    response = requests.get(page_url, headers=headers)\n",
    "    soup = BeautifulSoup(response.text, 'html.parser')\n",
    "    books = soup.find_all('article', class_='product_pod')\n",
    "\n",
    "    for book in books:\n",
    "        book_url = 'https://books.toscrape.com/catalogue/' + book.find('a')['href']\n",
    "        response = requests.get(book_url, headers=headers)\n",
    "        soup = BeautifulSoup(response.text, 'html.parser')\n",
    "\n",
    "        # Tên sách\n",
    "        name = soup.find('div', class_='product_main').h1.text\n",
    "        book_dict['name'].append(name)\n",
    "\n",
    "        # Giá sách\n",
    "        price = soup.find('div', class_='product_main').p.text\n",
    "        book_dict['price'].append(price)\n",
    "\n",
    "        # Danh mục\n",
    "        category = soup.find('ul', class_='breadcrumb').find_all('li')[2].a.text\n",
    "        book_dict['category'].append(category)\n",
    "\n",
    "        # Số sao\n",
    "        star_string = soup.find('p', class_='star-rating')['class'][1]\n",
    "        stars = number_dict[star_string]\n",
    "        book_dict['stars'].append(stars)\n",
    "\n",
    "        # Mã UPC\n",
    "        upc = soup.find('th', string='UPC').find_next_sibling().text\n",
    "        book_dict['upc'].append(upc)\n",
    "\n",
    "        # Tình trạng còn hàng\n",
    "        availability = soup.find('th', string='Availability').find_next_sibling().text\n",
    "        book_dict['availability'].append(availability)\n",
    "\n",
    "        # Số lượng còn lại trong kho\n",
    "        in_stock = availability.split('(')[1].split(' ')[0]\n",
    "        book_dict['in_stock'].append(in_stock)\n",
    "\n",
    "        # Link ảnh sản phẩm\n",
    "        image_link = 'https://books.toscrape.com/' + soup.find('div', class_='thumbnail').img['src'][6:]\n",
    "        book_dict['image_link'].append(image_link)\n",
    "\n",
    "        # Lưu link ảnh vào file text trong `output/`\n",
    "        with open(image_links_file, 'a') as f:\n",
    "            f.write(image_link + '\\n')"
   ]
  },
  {
   "cell_type": "code",
   "execution_count": 8,
   "id": "5129b1e7-92af-4d9d-b08e-9d85969c4fd9",
   "metadata": {},
   "outputs": [
    {
     "data": {
      "text/html": [
       "<pre style=\"white-space:pre;overflow-x:auto;line-height:normal;font-family:Menlo,'DejaVu Sans Mono',consolas,'Courier New',monospace\">Hoàn thành: xuất file CSV vào <span style=\"font-weight: bold\">{</span>csv_file_path<span style=\"font-weight: bold\">}</span>\n",
       "</pre>\n"
      ],
      "text/plain": [
       "Hoàn thành: xuất file CSV vào \u001b[1m{\u001b[0mcsv_file_path\u001b[1m}\u001b[0m\n"
      ]
     },
     "metadata": {},
     "output_type": "display_data"
    }
   ],
   "source": [
    "# Lưu dữ liệu sách vào file CSV trong thư mục `output/`\n",
    "csv_file_path = os.path.join(output_folder, 'book_data.csv')\n",
    "df = pd.DataFrame(book_dict)\n",
    "df.to_csv(csv_file_path, index=False, encoding='utf-8-sig')\n",
    "\n",
    "print('Hoàn thành: xuất file CSV vào {csv_file_path}')"
   ]
  },
  {
   "cell_type": "code",
   "execution_count": 6,
   "id": "217a0fa3-c1cd-4624-8d45-f4c82bf6f3f1",
   "metadata": {},
   "outputs": [
    {
     "name": "stdout",
     "output_type": "stream",
     "text": [
      "Please wait, still scraping image --> https://books.toscrape.com/media/cache/7f/9b/7f9bc0563de554998e2d93b7edec4921.jpg\n",
      "Please wait, still scraping image --> https://books.toscrape.com/media/cache/aa/55/aa55bbf7037a0e19ae69485adcc11903.jpg\n",
      "Please wait, still scraping image --> https://books.toscrape.com/media/cache/4a/58/4a58f6feb21b7194911eddb020766583.jpg\n",
      "Please wait, still scraping image --> https://books.toscrape.com/media/cache/a0/bb/a0bb0881c8ee6f5866804cf0a437853f.jpg\n",
      "Please wait, still scraping image --> https://books.toscrape.com/media/cache/48/7d/487d4be44c60cac7f0085242c4512653.jpg\n",
      "Please wait, still scraping image --> https://books.toscrape.com/media/cache/2e/fa/2efa13faabc899f61c2a181ab0de7ef8.jpg\n",
      "Please wait, still scraping image --> https://books.toscrape.com/media/cache/99/f5/99f511d2d38ef356701341d405a1cca2.jpg\n",
      "Please wait, still scraping image --> https://books.toscrape.com/media/cache/90/f7/90f79652caecac36bc97bf7b769c8fc4.jpg\n",
      "Please wait, still scraping image --> https://books.toscrape.com/media/cache/3c/db/3cdb7121cf09e7c5e3436cfff9834a67.jpg\n",
      "Please wait, still scraping image --> https://books.toscrape.com/media/cache/5f/03/5f0345cd81aaad65bb9f6a34ec0f6b9b.jpg\n",
      "Please wait, still scraping image --> https://books.toscrape.com/media/cache/20/fd/20fd23f982b45a59f6c1a31e6804e735.jpg\n",
      "Please wait, still scraping image --> https://books.toscrape.com/media/cache/98/85/9885b87053dcd05803ef58e9817e935a.jpg\n",
      "Please wait, still scraping image --> https://books.toscrape.com/media/cache/ed/be/edbe83ef3ebf5c22b9ebc139d3232947.jpg\n",
      "Please wait, still scraping image --> https://books.toscrape.com/media/cache/72/9f/729f5f6a75746782c336537730256f66.jpg\n",
      "Please wait, still scraping image --> https://books.toscrape.com/media/cache/f1/49/f1498baf6cb055e0a9188d5e57c5f686.jpg\n",
      "Please wait, still scraping image --> https://books.toscrape.com/media/cache/bf/31/bf31c4b40f6b2622330155fb9113a3bb.jpg\n",
      "Please wait, still scraping image --> https://books.toscrape.com/media/cache/66/97/6697a03eedbac77c2e957788e48b70a8.jpg\n",
      "Please wait, still scraping image --> https://books.toscrape.com/media/cache/13/8a/138a09170e0431cce98921b857a6eeb5.jpg\n",
      "Please wait, still scraping image --> https://books.toscrape.com/media/cache/eb/20/eb2063bd8d636cb8200c4b2c7cb6c773.jpg\n",
      "Please wait, still scraping image --> https://books.toscrape.com/media/cache/03/c5/03c51e2b5bf51a3f55deecbf8c9e8515.jpg\n",
      "Please wait, still scraping image --> https://books.toscrape.com/media/cache/f7/22/f722c24607ddc8013476ca8e84639ba7.jpg\n",
      "Please wait, still scraping image --> https://books.toscrape.com/media/cache/a2/fc/a2fc91793502f5c10b5826ad606de435.jpg\n",
      "Please wait, still scraping image --> https://books.toscrape.com/media/cache/ba/a6/baa64eeda5e10952da4610f8efc1be76.jpg\n",
      "Please wait, still scraping image --> https://books.toscrape.com/media/cache/ae/98/ae98d08a6f427491dd8eda6b51af41fe.jpg\n",
      "Please wait, still scraping image --> https://books.toscrape.com/media/cache/5b/82/5b827f00893b7119360e8a67d939e0b5.jpg\n",
      "Please wait, still scraping image --> https://books.toscrape.com/media/cache/b6/bd/b6bd7cd6500f96e717c147deb8d89af2.jpg\n",
      "Please wait, still scraping image --> https://books.toscrape.com/media/cache/e9/8a/e98a7adb82052fb13418a43291b8f0d4.jpg\n",
      "Please wait, still scraping image --> https://books.toscrape.com/media/cache/96/df/96dfbe6533f9705d2cdccc16310910ee.jpg\n",
      "Please wait, still scraping image --> https://books.toscrape.com/media/cache/b6/42/b642b7415804929612c29d87656edea1.jpg\n",
      "Please wait, still scraping image --> https://books.toscrape.com/media/cache/26/4f/264f79395041ac4b88038030da0433cd.jpg\n",
      "Please wait, still scraping image --> https://books.toscrape.com/media/cache/67/2f/672f2e3753cfc59c5843d23c88784326.jpg\n",
      "Please wait, still scraping image --> https://books.toscrape.com/media/cache/7d/18/7d18f04705f25aa7659b2aa6153c1a4f.jpg\n",
      "Please wait, still scraping image --> https://books.toscrape.com/media/cache/ea/12/ea12c82131832c5d772fdbd3cb56ced7.jpg\n",
      "Please wait, still scraping image --> https://books.toscrape.com/media/cache/48/b0/48b07e2daa02d7e5485aa546dec5a25e.jpg\n",
      "Please wait, still scraping image --> https://books.toscrape.com/media/cache/d1/7f/d17f326e3fcaf84c37d6d51e3470bcc6.jpg\n",
      "Please wait, still scraping image --> https://books.toscrape.com/media/cache/99/df/99df494c230127c3d5ff53153d1f23a3.jpg\n",
      "Please wait, still scraping image --> https://books.toscrape.com/media/cache/30/98/309814b6eeba469f4c741147aaaa076a.jpg\n",
      "Please wait, still scraping image --> https://books.toscrape.com/media/cache/f9/6b/f96b60a7614c4e3e868b82f6811efc7c.jpg\n",
      "Please wait, still scraping image --> https://books.toscrape.com/media/cache/f6/8e/f68e6ae2f9da04fccbde8442b0a1b52a.jpg\n",
      "Please wait, still scraping image --> https://books.toscrape.com/media/cache/9e/10/9e106f81f65b293e488718a4f54a6a3f.jpg\n",
      "Hoàn thành: tải file JPEG vào {book_images_folder}\n"
     ]
    }
   ],
   "source": [
    "# Tải ảnh về và lưu vào `output/book_images/`\n",
    "with open(image_links_file, 'r') as f:\n",
    "    links_list = f.read().strip().split('\\n')\n",
    "\n",
    "for i, image_url in enumerate(links_list):\n",
    "    print(f'Please wait, still scraping image --> {image_url}')\n",
    "    if image_url:\n",
    "        response = requests.get(image_url, headers=headers)\n",
    "        image_path = os.path.join(book_images_folder, f'{i+1}.jpg')\n",
    "        with open(image_path, 'wb') as imagefile:\n",
    "            imagefile.write(response.content)\n",
    "            \n",
    "print('Hoàn thành: tải file JPEG vào {book_images_folder}')"
   ]
  }
 ],
 "metadata": {
  "kernelspec": {
   "display_name": "Python 3",
   "language": "python",
   "name": "python3"
  },
  "language_info": {
   "codemirror_mode": {
    "name": "ipython",
    "version": 3
   },
   "file_extension": ".py",
   "mimetype": "text/x-python",
   "name": "python",
   "nbconvert_exporter": "python",
   "pygments_lexer": "ipython3",
   "version": "3.12.1"
  }
 },
 "nbformat": 4,
 "nbformat_minor": 5
}
