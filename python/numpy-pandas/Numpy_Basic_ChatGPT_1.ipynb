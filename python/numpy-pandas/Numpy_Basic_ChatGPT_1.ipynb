{
  "metadata": {
    "kernelspec": {
      "name": "python",
      "display_name": "Python (Pyodide)",
      "language": "python"
    },
    "language_info": {
      "codemirror_mode": {
        "name": "python",
        "version": 3
      },
      "file_extension": ".py",
      "mimetype": "text/x-python",
      "name": "python",
      "nbconvert_exporter": "python",
      "pygments_lexer": "ipython3",
      "version": "3.8"
    }
  },
  "nbformat_minor": 5,
  "nbformat": 4,
  "cells": [
    {
      "id": "e1a21229-5c5c-41b4-86bd-43d8894c0dcf",
      "cell_type": "markdown",
      "source": "📌 10 bài tập NumPy cho Data Analyst\nBài 1: Tạo mảng doanh thu hàng tuần\nMô tả: Bạn là Data Analyst tại một cửa hàng. Tạo mảng 1D từ dữ liệu doanh thu tuần (triệu đồng): [5, 7, 3, 8, 6].\nYêu cầu:\nTạo mảng bằng np.array().\nIn mảng và kiểm tra kiểu dữ liệu (dtype).\nĐáp án mẫu:\n\nimport numpy as np\ndoanh_thu = np.array([5, 7, 3, 8, 6])\nprint(\"Doanh thu:\", doanh_thu)\nprint(\"Kiểu dữ liệu:\", doanh_thu.dtype)",
      "metadata": {
        "tags": [],
        "editable": true,
        "slideshow": {
          "slide_type": ""
        }
      }
    },
    {
      "id": "4469098e-0161-443c-9d62-eed36ebf2701",
      "cell_type": "code",
      "source": "import numpy as np\ndoanh_thu_tuan = np.array([5, 7, 3, 8, 6])\nprint(doanh_thu_tuan)\nprint(doanh_thu_tuan.dtype)",
      "metadata": {
        "trusted": true
      },
      "outputs": [
        {
          "name": "stdout",
          "output_type": "stream",
          "text": "[5 7 3 8 6]\nint32\n"
        }
      ],
      "execution_count": 2
    },
    {
      "id": "f1abba62-1750-4de0-af8b-99874ec09aac",
      "cell_type": "markdown",
      "source": "Bài 2: Tính tổng chi phí vận chuyển\nMô tả: Công ty vận chuyển ghi nhận chi phí hàng ngày: [100, 150, 80, 200]. Tính tổng chi phí tuần bằng NumPy.\nYêu cầu:\nTạo mảng chi phí.\nDùng hàm np.sum() để tính tổng.\nĐáp án mẫu:\nimport numpy as np\nchi_phi = np.array([100, 150, 80, 200])\ntong_chi_phi = np.sum(chi_phi)\nprint(\"Tổng chi phí:\", tong_chi_phi)  # Kết quả: 530",
      "metadata": {}
    },
    {
      "id": "d1795e97-61cf-4212-b3be-a075b6ea40c0",
      "cell_type": "code",
      "source": "import numpy as np\nchi_phi_hang_ngay = np.array([100, 150, 80, 200])\ntong_chi_phi = np.sum(chi_phi_hang_ngay)\nprint(tong_chi_phi)",
      "metadata": {
        "trusted": true
      },
      "outputs": [
        {
          "name": "stdout",
          "output_type": "stream",
          "text": "530\n"
        }
      ],
      "execution_count": 3
    },
    {
      "id": "f8b76acb-ad63-4f30-ac02-978e446d5d30",
      "cell_type": "markdown",
      "source": "Bài 3: So sánh doanh thu hai cửa hàng\nMô tả: Hai cửa hàng có doanh thu tuần: Cửa hàng A [10, 12, 8], Cửa hàng B [9, 15, 7]. Tính chênh lệch doanh thu từng ngày.\nYêu cầu:\nTạo hai mảng.\nDùng phép trừ element-wise để tính chênh lệch.\nĐáp án mẫu:\nimport numpy as np\na = np.array([10, 12, 8])\nb = np.array([9, 15, 7])\nchenh_lech = a - b\nprint(\"Chênh lệch doanh thu:\", chenh_lech)  # Kết quả: [1 -3 1]",
      "metadata": {}
    },
    {
      "id": "5a3c5deb-f4a2-4da4-9880-e55b94ae05ca",
      "cell_type": "code",
      "source": "import numpy as np\nstore_A = np.array([10, 12, 8])\nstore_B = np.array([9, 15, 7])\nrev_chenh_lech = store_A - store_B\nprint(rev_chenh_lech)",
      "metadata": {
        "trusted": true
      },
      "outputs": [
        {
          "name": "stdout",
          "output_type": "stream",
          "text": "[ 1 -3  1]\n"
        }
      ],
      "execution_count": 7
    },
    {
      "id": "d5591e01-5756-4003-8af7-286de8b3b10b",
      "cell_type": "markdown",
      "source": "Bài 4: Tính trung bình điểm số học sinh\nMô tả: Điểm số 5 học sinh môn Toán: [7.5, 8.0, 6.5, 9.0, 7.0]. Tính điểm trung bình.\nYêu cầu:\nTạo mảng điểm số.\nDùng np.mean() để tính trung bình.\nĐáp án mẫu:\nimport numpy as np\ndiem = np.array([7.5, 8.0, 6.5, 9.0, 7.0])\ntrung_binh = np.mean(diem)\nprint(\"Điểm trung bình:\", trung_binh)  # Kết quả: 7.6",
      "metadata": {}
    },
    {
      "id": "18b258e0-632c-41f0-bae9-23195c4aed1d",
      "cell_type": "code",
      "source": "import numpy as np\ndiem_tb_toan = np.array([7.5, 8.0, 6.5, 9.0, 7.0])\ntb_moi_hs = np.mean(diem_tb_toan)\nprint(tb_moi_hs)",
      "metadata": {
        "trusted": true
      },
      "outputs": [
        {
          "name": "stdout",
          "output_type": "stream",
          "text": "7.6\n"
        }
      ],
      "execution_count": 8
    },
    {
      "id": "660f2b2c-8444-4fd5-bec5-29cdee8d7fe1",
      "cell_type": "markdown",
      "source": "Bài 5: Tạo bảng doanh thu 2D\nMô tả: Doanh thu 3 ngày của 2 cửa hàng: Cửa hàng 1 [5, 6, 7], Cửa hàng 2 [8, 9, 10]. Tạo mảng 2D.\nYêu cầu:\nTạo mảng 2D bằng np.array().\nIn mảng và kiểm tra shape và ndim.\nĐáp án mẫu:\nimport numpy as np\ndoanh_thu_2d = np.array([[5, 6, 7], [8, 9, 10]])\nprint(\"Doanh thu 2D:\\n\", doanh_thu_2d)\nprint(\"Shape:\", doanh_thu_2d.shape)  # (2, 3)\nprint(\"Số chiều:\", doanh_thu_2d.ndim)  # 2",
      "metadata": {}
    },
    {
      "id": "af41d76d-8df5-4629-931c-6504eb122d09",
      "cell_type": "code",
      "source": "import numpy as np\nrev = np.array([[5, 6, 7],[8, 9, 10]])\nprint(rev)\nprint(rev.shape)\nprint(rev.ndim)",
      "metadata": {
        "trusted": true
      },
      "outputs": [
        {
          "name": "stdout",
          "output_type": "stream",
          "text": "[[ 5  6  7]\n [ 8  9 10]]\n(2, 3)\n2\n"
        }
      ],
      "execution_count": 11
    },
    {
      "id": "980c3c6b-e8e7-4e49-a445-b3523e230601",
      "cell_type": "markdown",
      "source": "Bài 6: Điều chỉnh giá sản phẩm\nMô tả: Giá 4 sản phẩm [100, 200, 150, 300] tăng 10%. Tính giá mới.\nYêu cầu:\nTạo mảng giá gốc.\nNhân mảng với 1.1 để tăng giá.\nĐáp án mẫu:\nimport numpy as np\ngia = np.array([100, 200, 150, 300])\ngia_moi = gia * 1.1\nprint(\"Giá mới:\", gia_moi)  # Kết quả: [110. 220. 165. 330.]",
      "metadata": {}
    },
    {
      "id": "f22861a5-6d04-48fd-966e-e82c30396df8",
      "cell_type": "code",
      "source": "import numpy as np\nold_price = np.array([100, 200, 150, 300])\nnew_price = old_price * 1.1\nprint(new_price)",
      "metadata": {
        "trusted": true
      },
      "outputs": [
        {
          "name": "stdout",
          "output_type": "stream",
          "text": "[110. 220. 165. 330.]\n"
        }
      ],
      "execution_count": 12
    },
    {
      "id": "544484f7-b8b4-45a9-a591-61ccd118f45e",
      "cell_type": "markdown",
      "source": "Bài 7: Phân tích độ lệch chuẩn doanh thu\nMô tả: Doanh thu 5 ngày [1000, 1500, 800, 2000, 1200]. Tính độ lệch chuẩn để đánh giá biến động.\nYêu cầu:\nTạo mảng doanh thu.\nDùng np.std() và nhận xét (cao: biến động lớn, thấp: ổn định).\nĐáp án mẫu:\nimport numpy as np\ndoanh_thu = np.array([1000, 1500, 800, 2000, 1200])\nstd = np.std(doanh_thu)\nprint(\"Độ lệch chuẩn:\", std)  # Kết quả: ~435.89\nprint(\"Nhận xét: Biến động lớn\" if std > 200 else \"Ổn định\")",
      "metadata": {}
    },
    {
      "id": "19a6d3e9-98c9-4646-a020-7985685794ff",
      "cell_type": "code",
      "source": "import numpy as np\nrev = np.array([1000, 1500, 800, 2000, 1200])\nprint(rev.std())\nprint(\"Biến động lớn\" if rev.std() > 200 else \"Ổn định\")",
      "metadata": {
        "trusted": true
      },
      "outputs": [
        {
          "name": "stdout",
          "output_type": "stream",
          "text": "419.52353926806063\nBiến động lớn\n"
        }
      ],
      "execution_count": 19
    },
    {
      "id": "f1c903b8-275e-4f30-b0af-aef826765aa6",
      "cell_type": "markdown",
      "source": "Bài 8: Reshape dữ liệu khách hàng\nMô tả: Bạn có 6 giá trị chi tiêu của khách hàng [50, 60, 70, 80, 90, 100]. Chuyển thành mảng 2D (3 khách hàng, 2 ngày).\nYêu cầu:\nTạo mảng 1D.\nDùng reshape() để đổi thành 2D (3, 2).\nĐáp án mẫu:\nimport numpy as np\nchi_tieu = np.array([50, 60, 70, 80, 90, 100])\nchi_tieu_2d = chi_tieu.reshape(3, 2)\nprint(\"Chi tiêu 2D:\\n\", chi_tieu_2d)  # [[50 60] [70 80] [90 100]]\n",
      "metadata": {}
    },
    {
      "id": "dcbd2ac6-22bf-4750-875f-56011d257555",
      "cell_type": "code",
      "source": "import numpy as np\nchi_tieu_1d = np.array([50, 60, 70, 80, 90, 100])\nchi_tieu_2d = chi_tieu_1d.reshape(3,2)\nprint(chi_tieu_2d)",
      "metadata": {
        "trusted": true
      },
      "outputs": [
        {
          "name": "stdout",
          "output_type": "stream",
          "text": "[[ 50  60]\n [ 70  80]\n [ 90 100]]\n"
        }
      ],
      "execution_count": 22
    },
    {
      "id": "3c4df2f0-61ec-4284-8248-447988fbf73f",
      "cell_type": "markdown",
      "source": "Bài 9: Phân tích giá cổ phiếu\nMô tả: Giá cổ phiếu 2 công ty qua 3 ngày: Công ty A [100, 105, 98], Công ty B [95, 102, 90]. Tính trung bình và độ lệch chuẩn theo từng công ty.\nYêu cầu:\nTạo mảng 2D.\nDùng np.mean() và np.std() với axis=1.\nĐáp án mẫu:\nimport numpy as np\ngia_cp = np.array([[100, 105, 98], [95, 102, 90]])\ntb = np.mean(gia_cp, axis=1)\nstd = np.std(gia_cp, axis=1)\nprint(\"Trung bình:\", tb)  # [101. 95.666]\nprint(\"Độ lệch chuẩn:\", std)  # [2.94 4.92]",
      "metadata": {}
    },
    {
      "id": "028fa6fa-a58e-4974-ac23-e52e0c950aba",
      "cell_type": "code",
      "source": "import numpy as np\ngia_co_phieu = np.array([[100, 105, 98],[95, 102, 90]]) # Mảng gồm 2 hàng 3 cột - mỗi hàng là một công ty\ngia_co_phieu_tb = np.mean(gia_co_phieu, axis=1) # Tính theo hàng ngang (axis=1) - tr.bình giá cổ phiếu mỗi cty\ngia_co_phieu_std = np.std(gia_co_phieu, axis=1) # Tính theo hàng ngang (axis=1) - std giá cổ phiếu mỗi cty\nprint(gia_co_phieu_tb)\nprint(gia_co_phieu_std)",
      "metadata": {
        "trusted": true
      },
      "outputs": [
        {
          "name": "stdout",
          "output_type": "stream",
          "text": "[101.          95.66666667]\n[2.94392029 4.92160769]\n"
        }
      ],
      "execution_count": 25
    },
    {
      "id": "0ed8b383-f57a-4597-b139-35e7a6e1a45e",
      "cell_type": "markdown",
      "source": "Bài 10: Phát hiện outlier trong giao dịch\nMô tả: Dữ liệu giao dịch tuần [500, 600, 550, 2000, 700]. Tìm giao dịch bất thường (cách trung bình > 1.5 lần std).\nYêu cầu:\nTạo mảng giao dịch.\nTính mean, std, và dùng Z-score để tìm outlier.\nĐáp án mẫu:\nimport numpy as np\ngiao_dich = np.array([500, 600, 550, 2000, 700])\nmean = np.mean(giao_dich)\nstd = np.std(giao_dich)\noutliers = giao_dich[np.abs(giao_dich - mean) > 1.5 * std]\nprint(\"Mean:\", mean)  # 870\nprint(\"Std:\", std)   # ~588\nprint(\"Outliers:\", outliers)  # [2000]",
      "metadata": {}
    },
    {
      "id": "4f630a47-9be3-433a-b235-29bbcbdc137d",
      "cell_type": "code",
      "source": "import numpy as np\ntrans = np.array([500, 600, 550, 2500, 700])\ntrans_mean = np.mean(trans)\ntrans_std = np.std(trans)\n# Sử dụng Z-score NumPy boolean indexing để tìm outliers\noutliers = trans[np.abs(trans - trans_mean) > 1.5 * trans_std]\nprint(trans_mean)\nprint(trans_std)\nprint(outliers)",
      "metadata": {
        "trusted": true
      },
      "outputs": [
        {
          "name": "stdout",
          "output_type": "stream",
          "text": "970.0\n767.8541528180987\n[2500]\n"
        }
      ],
      "execution_count": 37
    }
  ]
}