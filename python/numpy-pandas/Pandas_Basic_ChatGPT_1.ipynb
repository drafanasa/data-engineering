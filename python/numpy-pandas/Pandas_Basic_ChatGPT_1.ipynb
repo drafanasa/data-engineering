{
  "metadata": {
    "kernelspec": {
      "name": "python",
      "display_name": "Python (Pyodide)",
      "language": "python"
    },
    "language_info": {
      "codemirror_mode": {
        "name": "python",
        "version": 3
      },
      "file_extension": ".py",
      "mimetype": "text/x-python",
      "name": "python",
      "nbconvert_exporter": "python",
      "pygments_lexer": "ipython3",
      "version": "3.8"
    }
  },
  "nbformat_minor": 5,
  "nbformat": 4,
  "cells": [
    {
      "id": "6bb41faa-5c7d-4d08-9297-985347ad36bc",
      "cell_type": "markdown",
      "source": "📌 PHẦN 1: CƠ BẢN VỀ PANDAS",
      "metadata": {}
    },
    {
      "id": "76fa143c-c377-4a82-b1cc-a05c60088aa7",
      "cell_type": "markdown",
      "source": "📝 Bài 1: Tạo DataFrame từ Dictionary\n🔹 Yêu cầu:\n\nTạo một DataFrame chứa thông tin của 5 nhân viên với các cột: \"Họ tên\", \"Tuổi\", \"Phòng ban\", \"Lương\"\nIn ra DataFrame\n\n🔹 Gợi ý:\nDùng pd.DataFrame() để tạo từ dictionary.",
      "metadata": {}
    },
    {
      "id": "fb3031ab-37ea-498f-b4b0-fcb426c67604",
      "cell_type": "code",
      "source": "import numpy as np\nimport pandas as pd\n\nemployee_dict = {'Họ tên':['a','b','c'], 'Tuổi':[4,5,6], 'Phòng ban':['d','e','f'], 'Lương':[7,8,9]}\nemployee_df = pd.DataFrame(employee_dict)\nemployee_df\n",
      "metadata": {
        "trusted": true
      },
      "outputs": [
        {
          "execution_count": 3,
          "output_type": "execute_result",
          "data": {
            "text/plain": "  Họ tên  Tuổi Phòng ban  Lương\n0      a     4         d      7\n1      b     5         e      8\n2      c     6         f      9",
            "text/html": "<div>\n<style scoped>\n    .dataframe tbody tr th:only-of-type {\n        vertical-align: middle;\n    }\n\n    .dataframe tbody tr th {\n        vertical-align: top;\n    }\n\n    .dataframe thead th {\n        text-align: right;\n    }\n</style>\n<table border=\"1\" class=\"dataframe\">\n  <thead>\n    <tr style=\"text-align: right;\">\n      <th></th>\n      <th>Họ tên</th>\n      <th>Tuổi</th>\n      <th>Phòng ban</th>\n      <th>Lương</th>\n    </tr>\n  </thead>\n  <tbody>\n    <tr>\n      <th>0</th>\n      <td>a</td>\n      <td>4</td>\n      <td>d</td>\n      <td>7</td>\n    </tr>\n    <tr>\n      <th>1</th>\n      <td>b</td>\n      <td>5</td>\n      <td>e</td>\n      <td>8</td>\n    </tr>\n    <tr>\n      <th>2</th>\n      <td>c</td>\n      <td>6</td>\n      <td>f</td>\n      <td>9</td>\n    </tr>\n  </tbody>\n</table>\n</div>"
          },
          "metadata": {}
        }
      ],
      "execution_count": 3
    },
    {
      "id": "22ef0c51-e7cc-46e7-ad1a-713a1a3fd904",
      "cell_type": "markdown",
      "source": "📝 Bài 2: Đọc file CSV và hiển thị dữ liệu\n🔹 Yêu cầu:\n\nĐọc file CSV bất kỳ.\nHiển thị 3 dòng đầu tiên.\n🔹 Dataset: employees.csv\n\n🔹 Gợi ý:\nDùng pd.read_csv() và df.head(3).",
      "metadata": {}
    },
    {
      "id": "2e1dfa9e-1bf7-42ce-96c9-fc4d1495bafd",
      "cell_type": "code",
      "source": "import numpy as np\nimport pandas as pd\n\nemployees_df = pd.read_csv('dataset_for_practice/employees.csv')\nemployees_df.head(3)",
      "metadata": {
        "trusted": true
      },
      "outputs": [
        {
          "execution_count": 6,
          "output_type": "execute_result",
          "data": {
            "text/plain": "         Họ tên  Tuổi Phòng ban     Lương\n0  Nguyễn Văn A    25   Kế toán  12000000\n1    Trần Thị B    30        IT  15000000\n2      Lê Văn C    35   Nhân sự  10000000",
            "text/html": "<div>\n<style scoped>\n    .dataframe tbody tr th:only-of-type {\n        vertical-align: middle;\n    }\n\n    .dataframe tbody tr th {\n        vertical-align: top;\n    }\n\n    .dataframe thead th {\n        text-align: right;\n    }\n</style>\n<table border=\"1\" class=\"dataframe\">\n  <thead>\n    <tr style=\"text-align: right;\">\n      <th></th>\n      <th>Họ tên</th>\n      <th>Tuổi</th>\n      <th>Phòng ban</th>\n      <th>Lương</th>\n    </tr>\n  </thead>\n  <tbody>\n    <tr>\n      <th>0</th>\n      <td>Nguyễn Văn A</td>\n      <td>25</td>\n      <td>Kế toán</td>\n      <td>12000000</td>\n    </tr>\n    <tr>\n      <th>1</th>\n      <td>Trần Thị B</td>\n      <td>30</td>\n      <td>IT</td>\n      <td>15000000</td>\n    </tr>\n    <tr>\n      <th>2</th>\n      <td>Lê Văn C</td>\n      <td>35</td>\n      <td>Nhân sự</td>\n      <td>10000000</td>\n    </tr>\n  </tbody>\n</table>\n</div>"
          },
          "metadata": {}
        }
      ],
      "execution_count": 6
    },
    {
      "id": "cc07c855-3178-41cf-a117-e4d1a3835e95",
      "cell_type": "markdown",
      "source": "📝 Bài 3: Thống kê cơ bản\n🔹 Yêu cầu:\nTính trung bình, giá trị lớn nhất, nhỏ nhất của cột \"Lương\".\n\n🔹 Gợi ý:\nDùng .mean(), .max(), .min().",
      "metadata": {}
    },
    {
      "id": "2a57a431-9e45-404f-9849-84a2db83e002",
      "cell_type": "code",
      "source": "import numpy as np\nimport pandas as pd\nemployees_df = pd.read_csv('dataset_for_practice/employees.csv')\nsalary_mean = employees_df['Lương'].mean()\nsalary_max = employees_df['Lương'].max()\nsalary_min = employees_df['Lương'].min()\nprint(f'Lương trung bình: {int(salary_mean):,}\\nLương cao nhất: {int(salary_max):,}\\nLương thấp nhất: {int(salary_min):,}')",
      "metadata": {
        "trusted": true
      },
      "outputs": [
        {
          "name": "stdout",
          "output_type": "stream",
          "text": "Lương trung bình: 13,400,000\nLương cao nhất: 17,000,000\nLương thấp nhất: 10,000,000\n"
        }
      ],
      "execution_count": 16
    },
    {
      "id": "16fd3171-6870-4e58-8c7a-b5465f4ccc6d",
      "cell_type": "markdown",
      "source": "📝 Bài 4: Lọc dữ liệu\n🔹 Yêu cầu:\nLọc ra những nhân viên có lương trên 10 triệu.\n🔹 Gợi ý:\nDùng boolean indexing: df[df[\"Lương\"] > 10000000]\n",
      "metadata": {}
    },
    {
      "id": "f98fc666-559d-4c7c-810f-258a84bc11c4",
      "cell_type": "code",
      "source": "import numpy as np\nimport pandas as pd\nemployees_df = pd.read_csv('dataset_for_practice/employees.csv')\nsalary_10tr = employees_df[employees_df['Lương'] > 10000000]\nsalary_10tr",
      "metadata": {
        "trusted": true
      },
      "outputs": [
        {
          "execution_count": 22,
          "output_type": "execute_result",
          "data": {
            "text/plain": "         Họ tên  Tuổi  Phòng ban     Lương\n0  Nguyễn Văn A    25    Kế toán  12000000\n1    Trần Thị B    30         IT  15000000\n3    Phạm Thị D    28  Marketing  13000000\n4   Hoàng Văn E    40         IT  17000000",
            "text/html": "<div>\n<style scoped>\n    .dataframe tbody tr th:only-of-type {\n        vertical-align: middle;\n    }\n\n    .dataframe tbody tr th {\n        vertical-align: top;\n    }\n\n    .dataframe thead th {\n        text-align: right;\n    }\n</style>\n<table border=\"1\" class=\"dataframe\">\n  <thead>\n    <tr style=\"text-align: right;\">\n      <th></th>\n      <th>Họ tên</th>\n      <th>Tuổi</th>\n      <th>Phòng ban</th>\n      <th>Lương</th>\n    </tr>\n  </thead>\n  <tbody>\n    <tr>\n      <th>0</th>\n      <td>Nguyễn Văn A</td>\n      <td>25</td>\n      <td>Kế toán</td>\n      <td>12000000</td>\n    </tr>\n    <tr>\n      <th>1</th>\n      <td>Trần Thị B</td>\n      <td>30</td>\n      <td>IT</td>\n      <td>15000000</td>\n    </tr>\n    <tr>\n      <th>3</th>\n      <td>Phạm Thị D</td>\n      <td>28</td>\n      <td>Marketing</td>\n      <td>13000000</td>\n    </tr>\n    <tr>\n      <th>4</th>\n      <td>Hoàng Văn E</td>\n      <td>40</td>\n      <td>IT</td>\n      <td>17000000</td>\n    </tr>\n  </tbody>\n</table>\n</div>"
          },
          "metadata": {}
        }
      ],
      "execution_count": 22
    },
    {
      "id": "e8423c9b-1000-4f10-9c46-ca0301f8d968",
      "cell_type": "markdown",
      "source": "📝 Bài 5: Thêm cột mới\n🔹 Yêu cầu:\nThêm một cột \"Thưởng\" = 10% lương của mỗi nhân viên.\n🔹 Gợi ý:\nDùng df[\"Thưởng\"] = df[\"Lương\"] * 0.1.",
      "metadata": {}
    },
    {
      "id": "5ba8820e-370e-4058-b024-dba2351889d2",
      "cell_type": "code",
      "source": "import numpy as np\nimport pandas as pd\nemployees_df = pd.read_csv('dataset_for_practice/employees.csv')\nemployees_df['Thưởng'] = employees_df['Lương']*0.1\nemployees_df",
      "metadata": {
        "trusted": true
      },
      "outputs": [
        {
          "execution_count": 25,
          "output_type": "execute_result",
          "data": {
            "text/plain": "         Họ tên  Tuổi  Phòng ban     Lương     Thưởng\n0  Nguyễn Văn A    25    Kế toán  12000000  1200000.0\n1    Trần Thị B    30         IT  15000000  1500000.0\n2      Lê Văn C    35    Nhân sự  10000000  1000000.0\n3    Phạm Thị D    28  Marketing  13000000  1300000.0\n4   Hoàng Văn E    40         IT  17000000  1700000.0",
            "text/html": "<div>\n<style scoped>\n    .dataframe tbody tr th:only-of-type {\n        vertical-align: middle;\n    }\n\n    .dataframe tbody tr th {\n        vertical-align: top;\n    }\n\n    .dataframe thead th {\n        text-align: right;\n    }\n</style>\n<table border=\"1\" class=\"dataframe\">\n  <thead>\n    <tr style=\"text-align: right;\">\n      <th></th>\n      <th>Họ tên</th>\n      <th>Tuổi</th>\n      <th>Phòng ban</th>\n      <th>Lương</th>\n      <th>Thưởng</th>\n    </tr>\n  </thead>\n  <tbody>\n    <tr>\n      <th>0</th>\n      <td>Nguyễn Văn A</td>\n      <td>25</td>\n      <td>Kế toán</td>\n      <td>12000000</td>\n      <td>1200000.0</td>\n    </tr>\n    <tr>\n      <th>1</th>\n      <td>Trần Thị B</td>\n      <td>30</td>\n      <td>IT</td>\n      <td>15000000</td>\n      <td>1500000.0</td>\n    </tr>\n    <tr>\n      <th>2</th>\n      <td>Lê Văn C</td>\n      <td>35</td>\n      <td>Nhân sự</td>\n      <td>10000000</td>\n      <td>1000000.0</td>\n    </tr>\n    <tr>\n      <th>3</th>\n      <td>Phạm Thị D</td>\n      <td>28</td>\n      <td>Marketing</td>\n      <td>13000000</td>\n      <td>1300000.0</td>\n    </tr>\n    <tr>\n      <th>4</th>\n      <td>Hoàng Văn E</td>\n      <td>40</td>\n      <td>IT</td>\n      <td>17000000</td>\n      <td>1700000.0</td>\n    </tr>\n  </tbody>\n</table>\n</div>"
          },
          "metadata": {}
        }
      ],
      "execution_count": 25
    },
    {
      "id": "026ae855-739b-4ae8-b8df-25646921ccd8",
      "cell_type": "markdown",
      "source": "📌 PHẦN 2: XỬ LÝ DỮ LIỆU",
      "metadata": {}
    },
    {
      "id": "9b5945a6-f81f-4b4c-8246-2fb04a7e5ff4",
      "cell_type": "markdown",
      "source": "📝 Bài 6: Xử lý giá trị thiếu (NaN)\n🔹 Yêu cầu:\nKiểm tra DataFrame có giá trị NaN không.\nThay thế tất cả giá trị NaN trong cột \"Lương\" bằng mức lương trung bình.\n🔹 Gợi ý:\nDùng .isnull().sum() để kiểm tra, .fillna() để thay thế.",
      "metadata": {}
    },
    {
      "id": "b646bf76-b7a4-4260-a507-64fd4e4ebbb2",
      "cell_type": "code",
      "source": "import numpy as np\nimport pandas as pd\nemployees_df = pd.read_csv('dataset_for_practice/employees_with_null.csv')\nnull_counter = sum(employees_df['Lương'].isna())\nprint(f'Giá trị NaN: {null_counter}')\nemployees_df['Lương'] = employees_df['Lương'].fillna(employees_df['Lương'].mean())\nemployees_df",
      "metadata": {
        "trusted": true
      },
      "outputs": [
        {
          "name": "stdout",
          "output_type": "stream",
          "text": "Giá trị NaN: 2\n"
        },
        {
          "execution_count": 30,
          "output_type": "execute_result",
          "data": {
            "text/plain": "         Họ tên  Tuổi  Phòng ban       Lương\n0  Nguyễn Văn A    25    Kế toán  12000000.0\n1    Trần Thị B    30         IT  13000000.0\n2      Lê Văn C    35    Nhân sự  10000000.0\n3    Phạm Thị D    28  Marketing  13000000.0\n4   Hoàng Văn E    40         IT  17000000.0",
            "text/html": "<div>\n<style scoped>\n    .dataframe tbody tr th:only-of-type {\n        vertical-align: middle;\n    }\n\n    .dataframe tbody tr th {\n        vertical-align: top;\n    }\n\n    .dataframe thead th {\n        text-align: right;\n    }\n</style>\n<table border=\"1\" class=\"dataframe\">\n  <thead>\n    <tr style=\"text-align: right;\">\n      <th></th>\n      <th>Họ tên</th>\n      <th>Tuổi</th>\n      <th>Phòng ban</th>\n      <th>Lương</th>\n    </tr>\n  </thead>\n  <tbody>\n    <tr>\n      <th>0</th>\n      <td>Nguyễn Văn A</td>\n      <td>25</td>\n      <td>Kế toán</td>\n      <td>12000000.0</td>\n    </tr>\n    <tr>\n      <th>1</th>\n      <td>Trần Thị B</td>\n      <td>30</td>\n      <td>IT</td>\n      <td>13000000.0</td>\n    </tr>\n    <tr>\n      <th>2</th>\n      <td>Lê Văn C</td>\n      <td>35</td>\n      <td>Nhân sự</td>\n      <td>10000000.0</td>\n    </tr>\n    <tr>\n      <th>3</th>\n      <td>Phạm Thị D</td>\n      <td>28</td>\n      <td>Marketing</td>\n      <td>13000000.0</td>\n    </tr>\n    <tr>\n      <th>4</th>\n      <td>Hoàng Văn E</td>\n      <td>40</td>\n      <td>IT</td>\n      <td>17000000.0</td>\n    </tr>\n  </tbody>\n</table>\n</div>"
          },
          "metadata": {}
        }
      ],
      "execution_count": 30
    },
    {
      "id": "db45d738-4862-4979-b1a1-4530434cdfaf",
      "cell_type": "markdown",
      "source": "📝 Bài 7: Sắp xếp dữ liệu\n🔹 Yêu cầu:\nSắp xếp nhân viên theo lương từ cao xuống thấp.\n🔹 Gợi ý:\nDùng df.sort_values(by=\"Lương\", ascending=False).\n\n",
      "metadata": {}
    },
    {
      "id": "5cb78246-ca23-4ef7-80b5-b758928efce6",
      "cell_type": "code",
      "source": "import numpy as np\nimport pandas as pd\nemployees_df = pd.read_csv('dataset_for_practice/employees.csv')\nemployees_sorted = employees_df.sort_values(by='Lương', ascending=False)\nemployees_sorted",
      "metadata": {
        "trusted": true
      },
      "outputs": [
        {
          "execution_count": 32,
          "output_type": "execute_result",
          "data": {
            "text/plain": "         Họ tên  Tuổi  Phòng ban     Lương\n4   Hoàng Văn E    40         IT  17000000\n1    Trần Thị B    30         IT  15000000\n3    Phạm Thị D    28  Marketing  13000000\n0  Nguyễn Văn A    25    Kế toán  12000000\n2      Lê Văn C    35    Nhân sự  10000000",
            "text/html": "<div>\n<style scoped>\n    .dataframe tbody tr th:only-of-type {\n        vertical-align: middle;\n    }\n\n    .dataframe tbody tr th {\n        vertical-align: top;\n    }\n\n    .dataframe thead th {\n        text-align: right;\n    }\n</style>\n<table border=\"1\" class=\"dataframe\">\n  <thead>\n    <tr style=\"text-align: right;\">\n      <th></th>\n      <th>Họ tên</th>\n      <th>Tuổi</th>\n      <th>Phòng ban</th>\n      <th>Lương</th>\n    </tr>\n  </thead>\n  <tbody>\n    <tr>\n      <th>4</th>\n      <td>Hoàng Văn E</td>\n      <td>40</td>\n      <td>IT</td>\n      <td>17000000</td>\n    </tr>\n    <tr>\n      <th>1</th>\n      <td>Trần Thị B</td>\n      <td>30</td>\n      <td>IT</td>\n      <td>15000000</td>\n    </tr>\n    <tr>\n      <th>3</th>\n      <td>Phạm Thị D</td>\n      <td>28</td>\n      <td>Marketing</td>\n      <td>13000000</td>\n    </tr>\n    <tr>\n      <th>0</th>\n      <td>Nguyễn Văn A</td>\n      <td>25</td>\n      <td>Kế toán</td>\n      <td>12000000</td>\n    </tr>\n    <tr>\n      <th>2</th>\n      <td>Lê Văn C</td>\n      <td>35</td>\n      <td>Nhân sự</td>\n      <td>10000000</td>\n    </tr>\n  </tbody>\n</table>\n</div>"
          },
          "metadata": {}
        }
      ],
      "execution_count": 32
    },
    {
      "id": "f2144e56-b289-4475-b634-ace4a2317140",
      "cell_type": "markdown",
      "source": "📝 Bài 8: Nhóm dữ liệu\n🔹 Yêu cầu:\n\nNhóm nhân viên theo \"Phòng ban\", tính lương trung bình của từng phòng.\n🔹 Gợi ý:\nDùng .groupby(\"Phòng ban\")[\"Lương\"].mean().",
      "metadata": {}
    },
    {
      "id": "9942614f-ff3c-4829-a393-1a0198e48128",
      "cell_type": "code",
      "source": "import numpy as np\nimport pandas as pd\nemployees_df = pd.read_csv('dataset_for_practice/employees.csv')\ndept_mean_salary = employees_df.groupby('Phòng ban')['Lương'].mean()\ndept_mean_salary",
      "metadata": {
        "trusted": true
      },
      "outputs": [
        {
          "execution_count": 33,
          "output_type": "execute_result",
          "data": {
            "text/plain": "Phòng ban\nIT           16000000.0\nKế toán      12000000.0\nMarketing    13000000.0\nNhân sự      10000000.0\nName: Lương, dtype: float64"
          },
          "metadata": {}
        }
      ],
      "execution_count": 33
    },
    {
      "id": "8f900a0e-a2b2-4c76-ac12-ea7a83e32448",
      "cell_type": "markdown",
      "source": "📝 Bài 9: Chọn dữ liệu bằng .iloc và .loc\n🔹 Yêu cầu:\n\nTruy xuất thông tin nhân viên ở dòng thứ 3 bằng .iloc.\nLấy thông tin \"Họ tên\" của nhân viên có \"Lương\" > 15 triệu bằng .loc.\n🔹 Gợi ý:\nDùng .iloc[] và .loc[].",
      "metadata": {}
    },
    {
      "id": "4c029d7f-8b50-4e68-91af-855b5328332d",
      "cell_type": "code",
      "source": "import numpy as np\nimport pandas as pd\nemployees_df = pd.read_csv('dataset_for_practice/employees.csv')\n\n# Truy xuất thông tin nhân viên ở dòng thứ 3 bằng .iloc\nemployees_df.iloc[[3]]\n\n# Lọc nhân viên có lương > 15 triệu và chỉ lấy cột \"Họ tên\"\nhigh_salary_employees = employees_df.loc[employees_df['Lương'] > 15000000, 'Họ tên']\n\n# Hiển thị kết quả\nhigh_salary_employees",
      "metadata": {
        "trusted": true
      },
      "outputs": [
        {
          "execution_count": 11,
          "output_type": "execute_result",
          "data": {
            "text/plain": "4    Hoàng Văn E\nName: Họ tên, dtype: object"
          },
          "metadata": {}
        }
      ],
      "execution_count": 11
    },
    {
      "id": "a3b0cd5f-bf93-44f8-9843-e8bf7bd221e7",
      "cell_type": "markdown",
      "source": "📝 Bài 10: Xuất dữ liệu ra file CSV\n🔹 Yêu cầu:\n\nLưu DataFrame vào file CSV \"filtered_employees.csv\".\n🔹 Gợi ý:\nDùng df.to_csv(\"filtered_employees.csv\", index=False).",
      "metadata": {}
    },
    {
      "id": "b3428225-8481-41e1-833f-f90a242cbebe",
      "cell_type": "code",
      "source": "import numpy as np\nimport pandas as pd\n\nemployees_dict = {'Họ tên':['Đức','Quang','Dũng'], 'Tuổi':[24,25,26], 'Phòng ban':['IT','MKT','SP'], 'Lương':[7000000,8000000,9000000]}\nemployees_df = pd.DataFrame(employees_dict)\nemployees_df.to_csv('exported_employees.csv', index=False,  encoding='utf-8')",
      "metadata": {
        "trusted": true
      },
      "outputs": [],
      "execution_count": 13
    },
    {
      "id": "c46b0076-8c67-4660-a986-eee2cbbdf828",
      "cell_type": "markdown",
      "source": "📌 PHẦN 3: CHỦ ĐỀ THỰC TẾ",
      "metadata": {}
    },
    {
      "id": "b79f5fec-96f7-4460-a827-ea9bc35ecbb6",
      "cell_type": "markdown",
      "source": "📝 Bài 11: Phân tích dữ liệu Titanic\n🔹 Yêu cầu:\n\nĐọc file titanic.csv (tôi sẽ cung cấp).\nHiển thị thông tin tổng quan bằng .info().\n🔹 Dataset: titanic.csv\n\n🔹 Gợi ý:\nDùng .info() để xem kiểu dữ liệu.",
      "metadata": {}
    },
    {
      "id": "05b4a6bb-6d96-48e3-8e4d-00431e5b666b",
      "cell_type": "code",
      "source": "import numpy as np\nimport pandas as pd\n\ntitanic_df = pd.read_csv('dataset_for_practice/titanic.csv')\ntitanic_df.head(10)",
      "metadata": {
        "trusted": true
      },
      "outputs": [
        {
          "execution_count": 17,
          "output_type": "execute_result",
          "data": {
            "text/plain": "   PassengerId  Survived  Pclass                    Name     Sex   Age    Fare\n0            1         1       1  Allen, Miss. Elisabeth  female  29.0  211.34\n1            2         0       3        Braund, Mr. Owen    male  22.0    7.25\n2            3         1       3  Heikkinen, Miss. Laina  female  26.0    7.92\n3            4         1       1  Futrelle, Mrs. Jacques  female  35.0   53.10\n4            5         0       2        Moran, Mr. James    male   NaN   13.00",
            "text/html": "<div>\n<style scoped>\n    .dataframe tbody tr th:only-of-type {\n        vertical-align: middle;\n    }\n\n    .dataframe tbody tr th {\n        vertical-align: top;\n    }\n\n    .dataframe thead th {\n        text-align: right;\n    }\n</style>\n<table border=\"1\" class=\"dataframe\">\n  <thead>\n    <tr style=\"text-align: right;\">\n      <th></th>\n      <th>PassengerId</th>\n      <th>Survived</th>\n      <th>Pclass</th>\n      <th>Name</th>\n      <th>Sex</th>\n      <th>Age</th>\n      <th>Fare</th>\n    </tr>\n  </thead>\n  <tbody>\n    <tr>\n      <th>0</th>\n      <td>1</td>\n      <td>1</td>\n      <td>1</td>\n      <td>Allen, Miss. Elisabeth</td>\n      <td>female</td>\n      <td>29.0</td>\n      <td>211.34</td>\n    </tr>\n    <tr>\n      <th>1</th>\n      <td>2</td>\n      <td>0</td>\n      <td>3</td>\n      <td>Braund, Mr. Owen</td>\n      <td>male</td>\n      <td>22.0</td>\n      <td>7.25</td>\n    </tr>\n    <tr>\n      <th>2</th>\n      <td>3</td>\n      <td>1</td>\n      <td>3</td>\n      <td>Heikkinen, Miss. Laina</td>\n      <td>female</td>\n      <td>26.0</td>\n      <td>7.92</td>\n    </tr>\n    <tr>\n      <th>3</th>\n      <td>4</td>\n      <td>1</td>\n      <td>1</td>\n      <td>Futrelle, Mrs. Jacques</td>\n      <td>female</td>\n      <td>35.0</td>\n      <td>53.10</td>\n    </tr>\n    <tr>\n      <th>4</th>\n      <td>5</td>\n      <td>0</td>\n      <td>2</td>\n      <td>Moran, Mr. James</td>\n      <td>male</td>\n      <td>NaN</td>\n      <td>13.00</td>\n    </tr>\n  </tbody>\n</table>\n</div>"
          },
          "metadata": {}
        }
      ],
      "execution_count": 17
    },
    {
      "id": "2440ecbb-22b2-4c20-b9da-719834a0d716",
      "cell_type": "markdown",
      "source": "📝 Bài 12: Tỷ lệ sống sót theo giới tính\n🔹 Yêu cầu:\n\nTính tỷ lệ sống sót của nam và nữ (Survived).\n🔹 Gợi ý:\nDùng .groupby(\"Sex\")[\"Survived\"].mean().",
      "metadata": {}
    },
    {
      "id": "b47248b0-898e-428d-bbe4-0ec20d75a358",
      "cell_type": "code",
      "source": "import numpy as np\nimport pandas as pd\ntitanic_df = pd.read_csv('dataset_for_practice/titanic.csv')\n\n# Cách 1: Kết quả trả về là DataFrame (một bảng 2D với nhiều Series) với cấp độ cột (multi-index).\nsurvived_rate_mean1 = titanic_df.groupby('Sex').agg({'Survived':['mean']})\nsurvived_rate_mean1\n# Cách 2: Kết quả trả về là Series (1 mảng 1D có nhãn tương tự một cột trong bảng), chứ không phải DataFrame.\nsurvived_rate_mean2 = titanic_df.groupby(\"Sex\")[\"Survived\"].mean()\nsurvived_rate_mean2\n# Kết luận: Nếu chỉ cần giá trị trung bình thì dùng cách 2 cho đơn giản. \n# Nếu cần mở rộng phân tích thì dùng cách 1 với .agg()",
      "metadata": {
        "trusted": true
      },
      "outputs": [
        {
          "execution_count": 2,
          "output_type": "execute_result",
          "data": {
            "text/plain": "Sex\nfemale    1.0\nmale      0.0\nName: Survived, dtype: float64"
          },
          "metadata": {}
        }
      ],
      "execution_count": 2
    },
    {
      "id": "b299cda3-3cb6-445d-b6c3-ac1a8b4b2523",
      "cell_type": "markdown",
      "source": "📝 Bài 13: Độ tuổi trung bình của người sống sót\n🔹 Yêu cầu:\nTính tuổi trung bình của những người sống sót (Survived = 1).\n🔹 Gợi ý:\nDùng df[df[\"Survived\"] == 1][\"Age\"].mean().",
      "metadata": {}
    },
    {
      "id": "313607e5-90cd-4f2f-8e5d-03bd1fef0739",
      "cell_type": "code",
      "source": "import numpy as np\nimport pandas as pd\ntitanic_df = pd.read_csv('dataset_for_practice/titanic.csv')\nmean_survivor_age = titanic_df[titanic_df['Survived'] == 1]['Age'].mean()\nprint(mean_survivor_age)",
      "metadata": {
        "trusted": true
      },
      "outputs": [
        {
          "name": "stdout",
          "output_type": "stream",
          "text": "30.0\n"
        }
      ],
      "execution_count": 4
    },
    {
      "id": "cbee8f1c-f941-41e4-8463-c3570c8b22cb",
      "cell_type": "markdown",
      "source": "📝 Bài 14: Phân tích giá vé\n🔹 Yêu cầu:\n\nTính giá vé trung bình của từng hạng (Pclass).\n🔹 Gợi ý:\nDùng .groupby(\"Pclass\")[\"Fare\"].mean().",
      "metadata": {}
    },
    {
      "id": "d30c7ca2-301e-430f-b7c5-8c162bdf1e7a",
      "cell_type": "code",
      "source": "import numpy as np\nimport pandas as pd\ntitanic_df = pd.read_csv('dataset_for_practice/titanic.csv')\nmean_fare = titanic_df.groupby('Pclass').agg({'Fare':['mean']})\nmean_fare",
      "metadata": {
        "trusted": true
      },
      "outputs": [
        {
          "execution_count": 11,
          "output_type": "execute_result",
          "data": {
            "text/plain": "           Fare\n           mean\nPclass         \n1       132.220\n2        13.000\n3         7.585",
            "text/html": "<div>\n<style scoped>\n    .dataframe tbody tr th:only-of-type {\n        vertical-align: middle;\n    }\n\n    .dataframe tbody tr th {\n        vertical-align: top;\n    }\n\n    .dataframe thead tr th {\n        text-align: left;\n    }\n\n    .dataframe thead tr:last-of-type th {\n        text-align: right;\n    }\n</style>\n<table border=\"1\" class=\"dataframe\">\n  <thead>\n    <tr>\n      <th></th>\n      <th>Fare</th>\n    </tr>\n    <tr>\n      <th></th>\n      <th>mean</th>\n    </tr>\n    <tr>\n      <th>Pclass</th>\n      <th></th>\n    </tr>\n  </thead>\n  <tbody>\n    <tr>\n      <th>1</th>\n      <td>132.220</td>\n    </tr>\n    <tr>\n      <th>2</th>\n      <td>13.000</td>\n    </tr>\n    <tr>\n      <th>3</th>\n      <td>7.585</td>\n    </tr>\n  </tbody>\n</table>\n</div>"
          },
          "metadata": {}
        }
      ],
      "execution_count": 11
    },
    {
      "id": "aa2a0248-2979-4cf8-9a2d-3414817b0938",
      "cell_type": "markdown",
      "source": "📝 Bài 15: Tạo cột mới\n🔹 Yêu cầu:\nThêm cột \"Fare_inflation\" = \"Fare\" * 146.14.\n🔹 Gợi ý:\nDùng df[\"Fare_inflation\"] = df[\"Fare\"] * 146.14.",
      "metadata": {}
    },
    {
      "id": "8f887e75-ea8d-42e9-9558-ec26469ed79e",
      "cell_type": "code",
      "source": "import numpy as np\nimport pandas as pd\ntitanic_df = pd.read_csv('dataset_for_practice/titanic.csv')\ntitanic_df['Fare_inflation'] = round(titanic_df['Fare'] * 146.14, 2)\ntitanic_df\n#fare_inflation_by_Pclass = titanic_df.groupby('Pclass')['Fare_inflation'].mean()\n#fare_inflation_by_Pclass",
      "metadata": {
        "trusted": true
      },
      "outputs": [
        {
          "execution_count": 19,
          "output_type": "execute_result",
          "data": {
            "text/plain": "   PassengerId  Survived  Pclass                    Name     Sex   Age  \\\n0            1         1       1  Allen, Miss. Elisabeth  female  29.0   \n1            2         0       3        Braund, Mr. Owen    male  22.0   \n2            3         1       3  Heikkinen, Miss. Laina  female  26.0   \n3            4         1       1  Futrelle, Mrs. Jacques  female  35.0   \n4            5         0       2        Moran, Mr. James    male   NaN   \n\n     Fare  Fare_inflation  \n0  211.34        30885.23  \n1    7.25         1059.51  \n2    7.92         1157.43  \n3   53.10         7760.03  \n4   13.00         1899.82  ",
            "text/html": "<div>\n<style scoped>\n    .dataframe tbody tr th:only-of-type {\n        vertical-align: middle;\n    }\n\n    .dataframe tbody tr th {\n        vertical-align: top;\n    }\n\n    .dataframe thead th {\n        text-align: right;\n    }\n</style>\n<table border=\"1\" class=\"dataframe\">\n  <thead>\n    <tr style=\"text-align: right;\">\n      <th></th>\n      <th>PassengerId</th>\n      <th>Survived</th>\n      <th>Pclass</th>\n      <th>Name</th>\n      <th>Sex</th>\n      <th>Age</th>\n      <th>Fare</th>\n      <th>Fare_inflation</th>\n    </tr>\n  </thead>\n  <tbody>\n    <tr>\n      <th>0</th>\n      <td>1</td>\n      <td>1</td>\n      <td>1</td>\n      <td>Allen, Miss. Elisabeth</td>\n      <td>female</td>\n      <td>29.0</td>\n      <td>211.34</td>\n      <td>30885.23</td>\n    </tr>\n    <tr>\n      <th>1</th>\n      <td>2</td>\n      <td>0</td>\n      <td>3</td>\n      <td>Braund, Mr. Owen</td>\n      <td>male</td>\n      <td>22.0</td>\n      <td>7.25</td>\n      <td>1059.51</td>\n    </tr>\n    <tr>\n      <th>2</th>\n      <td>3</td>\n      <td>1</td>\n      <td>3</td>\n      <td>Heikkinen, Miss. Laina</td>\n      <td>female</td>\n      <td>26.0</td>\n      <td>7.92</td>\n      <td>1157.43</td>\n    </tr>\n    <tr>\n      <th>3</th>\n      <td>4</td>\n      <td>1</td>\n      <td>1</td>\n      <td>Futrelle, Mrs. Jacques</td>\n      <td>female</td>\n      <td>35.0</td>\n      <td>53.10</td>\n      <td>7760.03</td>\n    </tr>\n    <tr>\n      <th>4</th>\n      <td>5</td>\n      <td>0</td>\n      <td>2</td>\n      <td>Moran, Mr. James</td>\n      <td>male</td>\n      <td>NaN</td>\n      <td>13.00</td>\n      <td>1899.82</td>\n    </tr>\n  </tbody>\n</table>\n</div>"
          },
          "metadata": {}
        }
      ],
      "execution_count": 19
    },
    {
      "id": "392448d8-538f-4ced-971b-368622bbb7e7",
      "cell_type": "markdown",
      "source": "📌 PHẦN 4: BÀI TẬP NÂNG CAO",
      "metadata": {}
    },
    {
      "id": "ea5f1fed-65ac-4aba-9ce4-e3dfab61ddee",
      "cell_type": "markdown",
      "source": "📝 Bài 16: Tạo cột phân loại tuổi\n🔹 Yêu cầu:\nTạo cột \"Age_group\":\n<18: Trẻ em\n18-60: Người lớn\n>60: Người già\n🔹 Gợi ý:\nDùng pd.cut() để phân nhóm dữ liệu.",
      "metadata": {}
    },
    {
      "id": "de97a6e9-f31e-4c65-9e75-7133b3ed8767",
      "cell_type": "code",
      "source": "import numpy as np\nimport pandas as pd\ntitanic_df = pd.read_csv('dataset_for_practice/titanic.csv')\ntitanic_df['Age_group'] = pd.cut(titanic_df['Age'], bins=[0, 18, 60, 150], labels=['Trẻ em','Người lớn','Người già'], right=True, include_lowest=True)\ntitanic_df",
      "metadata": {
        "trusted": true
      },
      "outputs": [
        {
          "execution_count": 23,
          "output_type": "execute_result",
          "data": {
            "text/plain": "   PassengerId  Survived  Pclass                    Name     Sex   Age  \\\n0            1         1       1  Allen, Miss. Elisabeth  female  29.0   \n1            2         0       3        Braund, Mr. Owen    male  22.0   \n2            3         1       3  Heikkinen, Miss. Laina  female  26.0   \n3            4         1       1  Futrelle, Mrs. Jacques  female  35.0   \n4            5         0       2        Moran, Mr. James    male   NaN   \n\n     Fare  Age_group  \n0  211.34  Người lớn  \n1    7.25  Người lớn  \n2    7.92  Người lớn  \n3   53.10  Người lớn  \n4   13.00        NaN  ",
            "text/html": "<div>\n<style scoped>\n    .dataframe tbody tr th:only-of-type {\n        vertical-align: middle;\n    }\n\n    .dataframe tbody tr th {\n        vertical-align: top;\n    }\n\n    .dataframe thead th {\n        text-align: right;\n    }\n</style>\n<table border=\"1\" class=\"dataframe\">\n  <thead>\n    <tr style=\"text-align: right;\">\n      <th></th>\n      <th>PassengerId</th>\n      <th>Survived</th>\n      <th>Pclass</th>\n      <th>Name</th>\n      <th>Sex</th>\n      <th>Age</th>\n      <th>Fare</th>\n      <th>Age_group</th>\n    </tr>\n  </thead>\n  <tbody>\n    <tr>\n      <th>0</th>\n      <td>1</td>\n      <td>1</td>\n      <td>1</td>\n      <td>Allen, Miss. Elisabeth</td>\n      <td>female</td>\n      <td>29.0</td>\n      <td>211.34</td>\n      <td>Người lớn</td>\n    </tr>\n    <tr>\n      <th>1</th>\n      <td>2</td>\n      <td>0</td>\n      <td>3</td>\n      <td>Braund, Mr. Owen</td>\n      <td>male</td>\n      <td>22.0</td>\n      <td>7.25</td>\n      <td>Người lớn</td>\n    </tr>\n    <tr>\n      <th>2</th>\n      <td>3</td>\n      <td>1</td>\n      <td>3</td>\n      <td>Heikkinen, Miss. Laina</td>\n      <td>female</td>\n      <td>26.0</td>\n      <td>7.92</td>\n      <td>Người lớn</td>\n    </tr>\n    <tr>\n      <th>3</th>\n      <td>4</td>\n      <td>1</td>\n      <td>1</td>\n      <td>Futrelle, Mrs. Jacques</td>\n      <td>female</td>\n      <td>35.0</td>\n      <td>53.10</td>\n      <td>Người lớn</td>\n    </tr>\n    <tr>\n      <th>4</th>\n      <td>5</td>\n      <td>0</td>\n      <td>2</td>\n      <td>Moran, Mr. James</td>\n      <td>male</td>\n      <td>NaN</td>\n      <td>13.00</td>\n      <td>NaN</td>\n    </tr>\n  </tbody>\n</table>\n</div>"
          },
          "metadata": {}
        }
      ],
      "execution_count": 23
    },
    {
      "id": "33f68ba0-6d1b-4c2c-9cee-0862380ec761",
      "cell_type": "markdown",
      "source": "📝 Bài 17: Trực quan hóa dữ liệu\n🔹 Yêu cầu:\nVẽ biểu đồ cột thể hiện số lượng hành khách theo hạng (Pclass).\n🔹 Gợi ý:\nDùng df[\"Pclass\"].value_counts().plot(kind=\"bar\").",
      "metadata": {}
    },
    {
      "id": "04473638-a5ed-48ac-9b52-7df4b2605c08",
      "cell_type": "code",
      "source": "PASS",
      "metadata": {
        "trusted": true
      },
      "outputs": [],
      "execution_count": null
    },
    {
      "id": "3329bb44-443a-4458-8c46-f629e468d742",
      "cell_type": "markdown",
      "source": "📝 Bài 18: Lọc hành khách VIP\n🔹 Yêu cầu:\nLọc hành khách có giá vé (Fare) > 100.\n🔹 Gợi ý:\nDùng df[df[\"Fare\"] > 100].",
      "metadata": {}
    },
    {
      "id": "319a3cb2-1fd2-4367-91f8-f25d94339974",
      "cell_type": "code",
      "source": "import numpy as np\nimport pandas as pd\ntitanic_df = pd.read_csv('dataset_for_practice/titanic.csv')\nfare_100 = titanic_df[titanic_df['Fare'] > 100]\nfare_100",
      "metadata": {
        "trusted": true
      },
      "outputs": [
        {
          "execution_count": 24,
          "output_type": "execute_result",
          "data": {
            "text/plain": "   PassengerId  Survived  Pclass                    Name     Sex   Age    Fare\n0            1         1       1  Allen, Miss. Elisabeth  female  29.0  211.34",
            "text/html": "<div>\n<style scoped>\n    .dataframe tbody tr th:only-of-type {\n        vertical-align: middle;\n    }\n\n    .dataframe tbody tr th {\n        vertical-align: top;\n    }\n\n    .dataframe thead th {\n        text-align: right;\n    }\n</style>\n<table border=\"1\" class=\"dataframe\">\n  <thead>\n    <tr style=\"text-align: right;\">\n      <th></th>\n      <th>PassengerId</th>\n      <th>Survived</th>\n      <th>Pclass</th>\n      <th>Name</th>\n      <th>Sex</th>\n      <th>Age</th>\n      <th>Fare</th>\n    </tr>\n  </thead>\n  <tbody>\n    <tr>\n      <th>0</th>\n      <td>1</td>\n      <td>1</td>\n      <td>1</td>\n      <td>Allen, Miss. Elisabeth</td>\n      <td>female</td>\n      <td>29.0</td>\n      <td>211.34</td>\n    </tr>\n  </tbody>\n</table>\n</div>"
          },
          "metadata": {}
        }
      ],
      "execution_count": 24
    },
    {
      "id": "f9ea9ed3-e4c3-4f77-80f3-06d1ccd82e6f",
      "cell_type": "markdown",
      "source": "📝 Bài 19: Phân tích dữ liệu sinh viên\n🔹 Yêu cầu:\nĐọc file students.csv (tôi sẽ cung cấp).\nTính điểm trung bình của từng học sinh.\n🔹 Dataset: students.csv\n🔹 Gợi ý:\nDùng .mean(axis=1).",
      "metadata": {}
    },
    {
      "id": "3d09b408-0bea-4289-afef-30b98f31bd46",
      "cell_type": "code",
      "source": "import numpy as np\nimport pandas as pd\nstudent_df = pd.read_csv('dataset_for_practice/students.csv')\nstudent_df['Điểm trung bình'] = round(student_df.mean(axis=1, numeric_only=True), 1)\nstudent_df",
      "metadata": {
        "trusted": true
      },
      "outputs": [
        {
          "execution_count": 37,
          "output_type": "execute_result",
          "data": {
            "text/plain": "       Họ tên  Toán  Văn  Anh  Điểm trung bình\n0   Bùi Văn H     8    6    7              7.0\n1  Đinh Thị K     7    9    8              8.0\n2    Võ Văn M     6    5    9              6.7\n3    Tạ Thị N     9    7    6              7.3\n4  Phan Văn P     5    8    7              6.7",
            "text/html": "<div>\n<style scoped>\n    .dataframe tbody tr th:only-of-type {\n        vertical-align: middle;\n    }\n\n    .dataframe tbody tr th {\n        vertical-align: top;\n    }\n\n    .dataframe thead th {\n        text-align: right;\n    }\n</style>\n<table border=\"1\" class=\"dataframe\">\n  <thead>\n    <tr style=\"text-align: right;\">\n      <th></th>\n      <th>Họ tên</th>\n      <th>Toán</th>\n      <th>Văn</th>\n      <th>Anh</th>\n      <th>Điểm trung bình</th>\n    </tr>\n  </thead>\n  <tbody>\n    <tr>\n      <th>0</th>\n      <td>Bùi Văn H</td>\n      <td>8</td>\n      <td>6</td>\n      <td>7</td>\n      <td>7.0</td>\n    </tr>\n    <tr>\n      <th>1</th>\n      <td>Đinh Thị K</td>\n      <td>7</td>\n      <td>9</td>\n      <td>8</td>\n      <td>8.0</td>\n    </tr>\n    <tr>\n      <th>2</th>\n      <td>Võ Văn M</td>\n      <td>6</td>\n      <td>5</td>\n      <td>9</td>\n      <td>6.7</td>\n    </tr>\n    <tr>\n      <th>3</th>\n      <td>Tạ Thị N</td>\n      <td>9</td>\n      <td>7</td>\n      <td>6</td>\n      <td>7.3</td>\n    </tr>\n    <tr>\n      <th>4</th>\n      <td>Phan Văn P</td>\n      <td>5</td>\n      <td>8</td>\n      <td>7</td>\n      <td>6.7</td>\n    </tr>\n  </tbody>\n</table>\n</div>"
          },
          "metadata": {}
        }
      ],
      "execution_count": 37
    },
    {
      "id": "30628413-86c0-4f38-93e1-44d9b9d048a1",
      "cell_type": "markdown",
      "source": "📝 Bài 20: Tìm sinh viên có điểm cao nhất\n🔹 Yêu cầu:\nTìm sinh viên có điểm trung bình cao nhất.\n🔹 Gợi ý:\nDùng .idxmax().\n",
      "metadata": {}
    },
    {
      "id": "d599be90-f29b-49bf-9f4c-975f9773d897",
      "cell_type": "code",
      "source": "import numpy as np\nimport pandas as pd\nstudent_df = pd.read_csv('dataset_for_practice/students.csv')\nstudent_df['Điểm trung bình'] = round(student_df.mean(axis=1, numeric_only=True), 1)\nindex_top_1_sv = student_df['Điểm trung bình'].idxmax()\nstudent_df.iloc[index_top_1_sv]",
      "metadata": {
        "trusted": true
      },
      "outputs": [
        {
          "execution_count": 44,
          "output_type": "execute_result",
          "data": {
            "text/plain": "Họ tên             Đinh Thị K\nToán                        7\nVăn                         9\nAnh                         8\nĐiểm trung bình           8.0\nName: 1, dtype: object"
          },
          "metadata": {}
        }
      ],
      "execution_count": 44
    },
    {
      "id": "f1d517b7-d70a-4d4c-b138-914495c56238",
      "cell_type": "code",
      "source": "",
      "metadata": {
        "trusted": true
      },
      "outputs": [],
      "execution_count": null
    }
  ]
}